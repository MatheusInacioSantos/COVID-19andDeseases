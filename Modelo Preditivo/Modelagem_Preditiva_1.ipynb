{
  "cells": [
    {
      "cell_type": "markdown",
      "metadata": {
        "id": "jbW9K5FTT19i"
      },
      "source": [
        "\n"
      ]
    },
    {
      "cell_type": "markdown",
      "metadata": {
        "id": "M5-dzHp3UeX1"
      },
      "source": [
        "**Análise Exploratória de Dados**"
      ]
    },
    {
      "cell_type": "markdown",
      "metadata": {
        "id": "POQqyOL5_eei"
      },
      "source": [
        "Para a análise exploratória, lemos os arquivos \"heart-train.csv\" e \"heart-test.csv\", além dos dados do arquivo \"covid.csv\".\n"
      ]
    },
    {
      "cell_type": "markdown",
      "metadata": {
        "id": "XTexX7P1Sp5q"
      },
      "source": [
        "A partir da instalação das bibliotecas verificamos:\n",
        "\n",
        "\n",
        "\n",
        "1.   Lemos a Base e a guardamos no Data Frame heart.train\n",
        "\n",
        "1.   Listamos o Data Frame heart.train\n",
        "2.   O Sumário do Data Frame\n",
        "\n"
      ]
    },
    {
      "cell_type": "code",
      "execution_count": 5,
      "metadata": {
        "colab": {
          "base_uri": "https://localhost:8080/",
          "height": 1000
        },
        "id": "iyGY0wf5SULU",
        "outputId": "ae7d570d-85ab-44fb-9626-528ccef162d7",
        "vscode": {
          "languageId": "r"
        }
      },
      "outputs": [
        {
          "data": {
            "text/html": [
              "<table class=\"dataframe\">\n",
              "<caption>A data.frame: 613 × 16</caption>\n",
              "<thead>\n",
              "\t<tr><th scope=col>Paciente</th><th scope=col>Hospital</th><th scope=col>Idade</th><th scope=col>Sexo</th><th scope=col>TDP</th><th scope=col>PAR</th><th scope=col>CS</th><th scope=col>ASJ</th><th scope=col>ECG</th><th scope=col>FCM</th><th scope=col>AIE</th><th scope=col>DST</th><th scope=col>IST</th><th scope=col>NVP</th><th scope=col>Talassemia</th><th scope=col>Diagnostico</th></tr>\n",
              "\t<tr><th scope=col>&lt;int&gt;</th><th scope=col>&lt;chr&gt;</th><th scope=col>&lt;int&gt;</th><th scope=col>&lt;chr&gt;</th><th scope=col>&lt;int&gt;</th><th scope=col>&lt;chr&gt;</th><th scope=col>&lt;chr&gt;</th><th scope=col>&lt;chr&gt;</th><th scope=col>&lt;chr&gt;</th><th scope=col>&lt;chr&gt;</th><th scope=col>&lt;chr&gt;</th><th scope=col>&lt;chr&gt;</th><th scope=col>&lt;chr&gt;</th><th scope=col>&lt;chr&gt;</th><th scope=col>&lt;chr&gt;</th><th scope=col>&lt;chr&gt;</th></tr>\n",
              "</thead>\n",
              "<tbody>\n",
              "\t<tr><td>262</td><td>C</td><td>60</td><td>F</td><td>1</td><td>150</td><td>240</td><td>0</td><td>0</td><td>171</td><td>0</td><td>0,9</td><td>1</td><td>0</td><td>3</td><td>A</td></tr>\n",
              "\t<tr><td>520</td><td>H</td><td>54</td><td>M</td><td>4</td><td>125</td><td>224</td><td>0</td><td>0</td><td>122</td><td>0</td><td>2  </td><td>2</td><td>?</td><td>?</td><td>P</td></tr>\n",
              "\t<tr><td>264</td><td>C</td><td>61</td><td>M</td><td>4</td><td>138</td><td>166</td><td>0</td><td>2</td><td>125</td><td>1</td><td>3,6</td><td>2</td><td>1</td><td>3</td><td>P</td></tr>\n",
              "\t<tr><td>674</td><td>S</td><td>60</td><td>M</td><td>3</td><td>115</td><td>0  </td><td>?</td><td>0</td><td>143</td><td>0</td><td>2,4</td><td>1</td><td>?</td><td>?</td><td>P</td></tr>\n",
              "\t<tr><td>102</td><td>C</td><td>57</td><td>F</td><td>4</td><td>128</td><td>303</td><td>0</td><td>2</td><td>159</td><td>0</td><td>0  </td><td>1</td><td>1</td><td>3</td><td>A</td></tr>\n",
              "\t<tr><td>315</td><td>H</td><td>35</td><td>F</td><td>1</td><td>120</td><td>160</td><td>0</td><td>1</td><td>185</td><td>0</td><td>0  </td><td>?</td><td>?</td><td>?</td><td>A</td></tr>\n",
              "\t<tr><td>471</td><td>H</td><td>56</td><td>M</td><td>3</td><td>130</td><td>?  </td><td>0</td><td>0</td><td>114</td><td>0</td><td>0  </td><td>?</td><td>?</td><td>?</td><td>A</td></tr>\n",
              "\t<tr><td>914</td><td>V</td><td>46</td><td>M</td><td>4</td><td>134</td><td>310</td><td>0</td><td>0</td><td>126</td><td>0</td><td>0  </td><td>?</td><td>?</td><td>3</td><td>P</td></tr>\n",
              "\t<tr><td> 31</td><td>C</td><td>60</td><td>M</td><td>4</td><td>117</td><td>230</td><td>1</td><td>0</td><td>160</td><td>1</td><td>1,4</td><td>1</td><td>2</td><td>7</td><td>P</td></tr>\n",
              "\t<tr><td> 90</td><td>C</td><td>66</td><td>M</td><td>4</td><td>120</td><td>302</td><td>0</td><td>2</td><td>151</td><td>0</td><td>0,4</td><td>2</td><td>0</td><td>3</td><td>A</td></tr>\n",
              "\t<tr><td>655</td><td>S</td><td>56</td><td>M</td><td>4</td><td>115</td><td>0  </td><td>?</td><td>1</td><td>82 </td><td>0</td><td>-1 </td><td>1</td><td>?</td><td>?</td><td>P</td></tr>\n",
              "\t<tr><td>401</td><td>H</td><td>48</td><td>M</td><td>2</td><td>130</td><td>245</td><td>0</td><td>0</td><td>160</td><td>0</td><td>0  </td><td>?</td><td>?</td><td>?</td><td>A</td></tr>\n",
              "\t<tr><td>132</td><td>C</td><td>29</td><td>M</td><td>2</td><td>130</td><td>204</td><td>0</td><td>2</td><td>202</td><td>0</td><td>0  </td><td>1</td><td>0</td><td>3</td><td>A</td></tr>\n",
              "\t<tr><td> 33</td><td>C</td><td>59</td><td>M</td><td>4</td><td>135</td><td>234</td><td>0</td><td>0</td><td>161</td><td>0</td><td>0,5</td><td>2</td><td>0</td><td>7</td><td>A</td></tr>\n",
              "\t<tr><td>515</td><td>H</td><td>50</td><td>F</td><td>3</td><td>140</td><td>288</td><td>0</td><td>0</td><td>140</td><td>1</td><td>0  </td><td>?</td><td>?</td><td>7</td><td>P</td></tr>\n",
              "\t<tr><td>482</td><td>H</td><td>59</td><td>M</td><td>2</td><td>140</td><td>287</td><td>0</td><td>0</td><td>150</td><td>0</td><td>0  </td><td>?</td><td>?</td><td>?</td><td>A</td></tr>\n",
              "\t<tr><td>419</td><td>H</td><td>51</td><td>F</td><td>2</td><td>160</td><td>194</td><td>0</td><td>0</td><td>170</td><td>0</td><td>0  </td><td>?</td><td>?</td><td>?</td><td>A</td></tr>\n",
              "\t<tr><td>915</td><td>V</td><td>54</td><td>F</td><td>4</td><td>127</td><td>333</td><td>1</td><td>1</td><td>154</td><td>0</td><td>0  </td><td>?</td><td>?</td><td>?</td><td>P</td></tr>\n",
              "\t<tr><td>275</td><td>C</td><td>64</td><td>M</td><td>1</td><td>170</td><td>227</td><td>0</td><td>2</td><td>155</td><td>0</td><td>0,6</td><td>2</td><td>0</td><td>7</td><td>A</td></tr>\n",
              "\t<tr><td>572</td><td>H</td><td>55</td><td>M</td><td>2</td><td>160</td><td>292</td><td>1</td><td>0</td><td>143</td><td>1</td><td>2  </td><td>2</td><td>?</td><td>?</td><td>P</td></tr>\n",
              "\t<tr><td>387</td><td>H</td><td>46</td><td>M</td><td>4</td><td>180</td><td>280</td><td>0</td><td>1</td><td>120</td><td>0</td><td>0  </td><td>?</td><td>?</td><td>?</td><td>A</td></tr>\n",
              "\t<tr><td>582</td><td>H</td><td>41</td><td>M</td><td>4</td><td>120</td><td>336</td><td>0</td><td>0</td><td>118</td><td>1</td><td>3  </td><td>2</td><td>?</td><td>?</td><td>P</td></tr>\n",
              "\t<tr><td>544</td><td>H</td><td>54</td><td>M</td><td>3</td><td>120</td><td>237</td><td>0</td><td>0</td><td>150</td><td>1</td><td>1,5</td><td>?</td><td>?</td><td>7</td><td>P</td></tr>\n",
              "\t<tr><td>758</td><td>V</td><td>58</td><td>M</td><td>4</td><td>?  </td><td>203</td><td>1</td><td>0</td><td>?  </td><td>?</td><td>?  </td><td>?</td><td>?</td><td>?</td><td>P</td></tr>\n",
              "\t<tr><td>567</td><td>H</td><td>52</td><td>M</td><td>4</td><td>160</td><td>246</td><td>0</td><td>1</td><td>82 </td><td>1</td><td>4  </td><td>2</td><td>?</td><td>?</td><td>P</td></tr>\n",
              "\t<tr><td>461</td><td>H</td><td>55</td><td>F</td><td>2</td><td>130</td><td>394</td><td>0</td><td>2</td><td>150</td><td>0</td><td>0  </td><td>?</td><td>?</td><td>?</td><td>A</td></tr>\n",
              "\t<tr><td>244</td><td>C</td><td>60</td><td>F</td><td>3</td><td>120</td><td>178</td><td>1</td><td>0</td><td>96 </td><td>0</td><td>0  </td><td>1</td><td>0</td><td>3</td><td>A</td></tr>\n",
              "\t<tr><td> 68</td><td>C</td><td>59</td><td>M</td><td>4</td><td>170</td><td>326</td><td>0</td><td>2</td><td>140</td><td>1</td><td>3,4</td><td>3</td><td>0</td><td>7</td><td>P</td></tr>\n",
              "\t<tr><td>328</td><td>H</td><td>37</td><td>M</td><td>4</td><td>120</td><td>223</td><td>0</td><td>0</td><td>168</td><td>0</td><td>0  </td><td>?</td><td>?</td><td>3</td><td>A</td></tr>\n",
              "\t<tr><td>105</td><td>C</td><td>54</td><td>M</td><td>2</td><td>108</td><td>309</td><td>0</td><td>0</td><td>156</td><td>0</td><td>0  </td><td>1</td><td>0</td><td>7</td><td>A</td></tr>\n",
              "\t<tr><td>⋮</td><td>⋮</td><td>⋮</td><td>⋮</td><td>⋮</td><td>⋮</td><td>⋮</td><td>⋮</td><td>⋮</td><td>⋮</td><td>⋮</td><td>⋮</td><td>⋮</td><td>⋮</td><td>⋮</td><td>⋮</td></tr>\n",
              "\t<tr><td> 23</td><td>C</td><td>58</td><td>M</td><td>3</td><td>132</td><td>224</td><td>0</td><td>2</td><td>173</td><td>0</td><td>3,2 </td><td>1</td><td>2</td><td>7</td><td>P</td></tr>\n",
              "\t<tr><td>623</td><td>S</td><td>50</td><td>M</td><td>4</td><td>115</td><td>0  </td><td>0</td><td>0</td><td>120</td><td>1</td><td>0,5 </td><td>2</td><td>?</td><td>6</td><td>P</td></tr>\n",
              "\t<tr><td>247</td><td>C</td><td>47</td><td>M</td><td>4</td><td>110</td><td>275</td><td>0</td><td>2</td><td>118</td><td>1</td><td>1   </td><td>2</td><td>1</td><td>3</td><td>P</td></tr>\n",
              "\t<tr><td>384</td><td>H</td><td>46</td><td>M</td><td>3</td><td>150</td><td>163</td><td>?</td><td>0</td><td>116</td><td>0</td><td>0   </td><td>?</td><td>?</td><td>?</td><td>A</td></tr>\n",
              "\t<tr><td>882</td><td>V</td><td>57</td><td>M</td><td>4</td><td>156</td><td>173</td><td>0</td><td>2</td><td>119</td><td>1</td><td>3   </td><td>3</td><td>?</td><td>?</td><td>P</td></tr>\n",
              "\t<tr><td>633</td><td>S</td><td>52</td><td>M</td><td>4</td><td>130</td><td>0  </td><td>?</td><td>0</td><td>120</td><td>0</td><td>0   </td><td>2</td><td>?</td><td>7</td><td>P</td></tr>\n",
              "\t<tr><td>746</td><td>V</td><td>51</td><td>M</td><td>4</td><td>?  </td><td>0  </td><td>1</td><td>1</td><td>?  </td><td>?</td><td>?   </td><td>?</td><td>?</td><td>?</td><td>P</td></tr>\n",
              "\t<tr><td>691</td><td>S</td><td>62</td><td>M</td><td>1</td><td>120</td><td>0  </td><td>?</td><td>2</td><td>134</td><td>0</td><td>-0,8</td><td>2</td><td>2</td><td>?</td><td>P</td></tr>\n",
              "\t<tr><td>285</td><td>C</td><td>58</td><td>M</td><td>4</td><td>114</td><td>318</td><td>0</td><td>1</td><td>140</td><td>0</td><td>4,4 </td><td>3</td><td>3</td><td>6</td><td>P</td></tr>\n",
              "\t<tr><td>405</td><td>H</td><td>49</td><td>F</td><td>2</td><td>110</td><td>?  </td><td>0</td><td>0</td><td>160</td><td>0</td><td>0   </td><td>?</td><td>?</td><td>?</td><td>A</td></tr>\n",
              "\t<tr><td>489</td><td>H</td><td>62</td><td>F</td><td>1</td><td>160</td><td>193</td><td>0</td><td>0</td><td>116</td><td>0</td><td>0   </td><td>?</td><td>?</td><td>?</td><td>A</td></tr>\n",
              "\t<tr><td>716</td><td>S</td><td>70</td><td>M</td><td>4</td><td>140</td><td>0  </td><td>1</td><td>0</td><td>157</td><td>1</td><td>2   </td><td>2</td><td>?</td><td>7</td><td>P</td></tr>\n",
              "\t<tr><td>578</td><td>H</td><td>59</td><td>M</td><td>4</td><td>130</td><td>?  </td><td>0</td><td>0</td><td>125</td><td>0</td><td>0   </td><td>?</td><td>?</td><td>?</td><td>P</td></tr>\n",
              "\t<tr><td>145</td><td>C</td><td>47</td><td>M</td><td>3</td><td>108</td><td>243</td><td>0</td><td>0</td><td>152</td><td>0</td><td>0   </td><td>1</td><td>0</td><td>3</td><td>P</td></tr>\n",
              "\t<tr><td>295</td><td>C</td><td>41</td><td>M</td><td>2</td><td>120</td><td>157</td><td>0</td><td>0</td><td>182</td><td>0</td><td>0   </td><td>1</td><td>0</td><td>3</td><td>A</td></tr>\n",
              "\t<tr><td>432</td><td>H</td><td>52</td><td>M</td><td>2</td><td>160</td><td>196</td><td>0</td><td>0</td><td>165</td><td>0</td><td>0   </td><td>?</td><td>?</td><td>?</td><td>A</td></tr>\n",
              "\t<tr><td>507</td><td>H</td><td>47</td><td>M</td><td>3</td><td>140</td><td>193</td><td>0</td><td>0</td><td>145</td><td>1</td><td>1   </td><td>2</td><td>?</td><td>?</td><td>P</td></tr>\n",
              "\t<tr><td>757</td><td>V</td><td>60</td><td>M</td><td>4</td><td>120</td><td>0  </td><td>0</td><td>0</td><td>133</td><td>1</td><td>2   </td><td>1</td><td>?</td><td>7</td><td>A</td></tr>\n",
              "\t<tr><td>286</td><td>C</td><td>58</td><td>F</td><td>4</td><td>170</td><td>225</td><td>1</td><td>2</td><td>146</td><td>1</td><td>2,8 </td><td>2</td><td>2</td><td>6</td><td>P</td></tr>\n",
              "\t<tr><td>118</td><td>C</td><td>63</td><td>M</td><td>4</td><td>130</td><td>330</td><td>1</td><td>2</td><td>132</td><td>1</td><td>1,8 </td><td>1</td><td>3</td><td>7</td><td>P</td></tr>\n",
              "\t<tr><td> 73</td><td>C</td><td>65</td><td>M</td><td>4</td><td>110</td><td>248</td><td>0</td><td>2</td><td>158</td><td>0</td><td>0,6 </td><td>1</td><td>2</td><td>6</td><td>P</td></tr>\n",
              "\t<tr><td>371</td><td>H</td><td>44</td><td>M</td><td>2</td><td>120</td><td>184</td><td>0</td><td>0</td><td>142</td><td>0</td><td>1   </td><td>2</td><td>?</td><td>?</td><td>A</td></tr>\n",
              "\t<tr><td>742</td><td>V</td><td>63</td><td>M</td><td>3</td><td>130</td><td>0  </td><td>0</td><td>1</td><td>111</td><td>1</td><td>0   </td><td>?</td><td>?</td><td>?</td><td>P</td></tr>\n",
              "\t<tr><td>521</td><td>H</td><td>55</td><td>M</td><td>4</td><td>140</td><td>201</td><td>0</td><td>0</td><td>130</td><td>1</td><td>3   </td><td>2</td><td>?</td><td>?</td><td>P</td></tr>\n",
              "\t<tr><td>396</td><td>H</td><td>48</td><td>F</td><td>3</td><td>120</td><td>195</td><td>0</td><td>0</td><td>125</td><td>0</td><td>0   </td><td>?</td><td>?</td><td>?</td><td>A</td></tr>\n",
              "\t<tr><td>714</td><td>S</td><td>69</td><td>M</td><td>4</td><td>?  </td><td>0  </td><td>0</td><td>1</td><td>?  </td><td>?</td><td>?   </td><td>?</td><td>?</td><td>7</td><td>P</td></tr>\n",
              "\t<tr><td>103</td><td>C</td><td>71</td><td>F</td><td>3</td><td>110</td><td>265</td><td>1</td><td>2</td><td>130</td><td>0</td><td>0   </td><td>1</td><td>1</td><td>3</td><td>A</td></tr>\n",
              "\t<tr><td>854</td><td>V</td><td>55</td><td>M</td><td>4</td><td>172</td><td>260</td><td>0</td><td>0</td><td>73 </td><td>0</td><td>2   </td><td>?</td><td>?</td><td>?</td><td>P</td></tr>\n",
              "\t<tr><td>619</td><td>S</td><td>47</td><td>M</td><td>4</td><td>110</td><td>0  </td><td>?</td><td>1</td><td>149</td><td>0</td><td>2,1 </td><td>1</td><td>?</td><td>?</td><td>P</td></tr>\n",
              "\t<tr><td>173</td><td>C</td><td>62</td><td>F</td><td>4</td><td>140</td><td>394</td><td>0</td><td>2</td><td>157</td><td>0</td><td>1,2 </td><td>2</td><td>0</td><td>3</td><td>A</td></tr>\n",
              "</tbody>\n",
              "</table>\n"
            ],
            "text/latex": [
              "A data.frame: 613 × 16\n",
              "\\begin{tabular}{llllllllllllllll}\n",
              " Paciente & Hospital & Idade & Sexo & TDP & PAR & CS & ASJ & ECG & FCM & AIE & DST & IST & NVP & Talassemia & Diagnostico\\\\\n",
              " <int> & <chr> & <int> & <chr> & <int> & <chr> & <chr> & <chr> & <chr> & <chr> & <chr> & <chr> & <chr> & <chr> & <chr> & <chr>\\\\\n",
              "\\hline\n",
              "\t 262 & C & 60 & F & 1 & 150 & 240 & 0 & 0 & 171 & 0 & 0,9 & 1 & 0 & 3 & A\\\\\n",
              "\t 520 & H & 54 & M & 4 & 125 & 224 & 0 & 0 & 122 & 0 & 2   & 2 & ? & ? & P\\\\\n",
              "\t 264 & C & 61 & M & 4 & 138 & 166 & 0 & 2 & 125 & 1 & 3,6 & 2 & 1 & 3 & P\\\\\n",
              "\t 674 & S & 60 & M & 3 & 115 & 0   & ? & 0 & 143 & 0 & 2,4 & 1 & ? & ? & P\\\\\n",
              "\t 102 & C & 57 & F & 4 & 128 & 303 & 0 & 2 & 159 & 0 & 0   & 1 & 1 & 3 & A\\\\\n",
              "\t 315 & H & 35 & F & 1 & 120 & 160 & 0 & 1 & 185 & 0 & 0   & ? & ? & ? & A\\\\\n",
              "\t 471 & H & 56 & M & 3 & 130 & ?   & 0 & 0 & 114 & 0 & 0   & ? & ? & ? & A\\\\\n",
              "\t 914 & V & 46 & M & 4 & 134 & 310 & 0 & 0 & 126 & 0 & 0   & ? & ? & 3 & P\\\\\n",
              "\t  31 & C & 60 & M & 4 & 117 & 230 & 1 & 0 & 160 & 1 & 1,4 & 1 & 2 & 7 & P\\\\\n",
              "\t  90 & C & 66 & M & 4 & 120 & 302 & 0 & 2 & 151 & 0 & 0,4 & 2 & 0 & 3 & A\\\\\n",
              "\t 655 & S & 56 & M & 4 & 115 & 0   & ? & 1 & 82  & 0 & -1  & 1 & ? & ? & P\\\\\n",
              "\t 401 & H & 48 & M & 2 & 130 & 245 & 0 & 0 & 160 & 0 & 0   & ? & ? & ? & A\\\\\n",
              "\t 132 & C & 29 & M & 2 & 130 & 204 & 0 & 2 & 202 & 0 & 0   & 1 & 0 & 3 & A\\\\\n",
              "\t  33 & C & 59 & M & 4 & 135 & 234 & 0 & 0 & 161 & 0 & 0,5 & 2 & 0 & 7 & A\\\\\n",
              "\t 515 & H & 50 & F & 3 & 140 & 288 & 0 & 0 & 140 & 1 & 0   & ? & ? & 7 & P\\\\\n",
              "\t 482 & H & 59 & M & 2 & 140 & 287 & 0 & 0 & 150 & 0 & 0   & ? & ? & ? & A\\\\\n",
              "\t 419 & H & 51 & F & 2 & 160 & 194 & 0 & 0 & 170 & 0 & 0   & ? & ? & ? & A\\\\\n",
              "\t 915 & V & 54 & F & 4 & 127 & 333 & 1 & 1 & 154 & 0 & 0   & ? & ? & ? & P\\\\\n",
              "\t 275 & C & 64 & M & 1 & 170 & 227 & 0 & 2 & 155 & 0 & 0,6 & 2 & 0 & 7 & A\\\\\n",
              "\t 572 & H & 55 & M & 2 & 160 & 292 & 1 & 0 & 143 & 1 & 2   & 2 & ? & ? & P\\\\\n",
              "\t 387 & H & 46 & M & 4 & 180 & 280 & 0 & 1 & 120 & 0 & 0   & ? & ? & ? & A\\\\\n",
              "\t 582 & H & 41 & M & 4 & 120 & 336 & 0 & 0 & 118 & 1 & 3   & 2 & ? & ? & P\\\\\n",
              "\t 544 & H & 54 & M & 3 & 120 & 237 & 0 & 0 & 150 & 1 & 1,5 & ? & ? & 7 & P\\\\\n",
              "\t 758 & V & 58 & M & 4 & ?   & 203 & 1 & 0 & ?   & ? & ?   & ? & ? & ? & P\\\\\n",
              "\t 567 & H & 52 & M & 4 & 160 & 246 & 0 & 1 & 82  & 1 & 4   & 2 & ? & ? & P\\\\\n",
              "\t 461 & H & 55 & F & 2 & 130 & 394 & 0 & 2 & 150 & 0 & 0   & ? & ? & ? & A\\\\\n",
              "\t 244 & C & 60 & F & 3 & 120 & 178 & 1 & 0 & 96  & 0 & 0   & 1 & 0 & 3 & A\\\\\n",
              "\t  68 & C & 59 & M & 4 & 170 & 326 & 0 & 2 & 140 & 1 & 3,4 & 3 & 0 & 7 & P\\\\\n",
              "\t 328 & H & 37 & M & 4 & 120 & 223 & 0 & 0 & 168 & 0 & 0   & ? & ? & 3 & A\\\\\n",
              "\t 105 & C & 54 & M & 2 & 108 & 309 & 0 & 0 & 156 & 0 & 0   & 1 & 0 & 7 & A\\\\\n",
              "\t ⋮ & ⋮ & ⋮ & ⋮ & ⋮ & ⋮ & ⋮ & ⋮ & ⋮ & ⋮ & ⋮ & ⋮ & ⋮ & ⋮ & ⋮ & ⋮\\\\\n",
              "\t  23 & C & 58 & M & 3 & 132 & 224 & 0 & 2 & 173 & 0 & 3,2  & 1 & 2 & 7 & P\\\\\n",
              "\t 623 & S & 50 & M & 4 & 115 & 0   & 0 & 0 & 120 & 1 & 0,5  & 2 & ? & 6 & P\\\\\n",
              "\t 247 & C & 47 & M & 4 & 110 & 275 & 0 & 2 & 118 & 1 & 1    & 2 & 1 & 3 & P\\\\\n",
              "\t 384 & H & 46 & M & 3 & 150 & 163 & ? & 0 & 116 & 0 & 0    & ? & ? & ? & A\\\\\n",
              "\t 882 & V & 57 & M & 4 & 156 & 173 & 0 & 2 & 119 & 1 & 3    & 3 & ? & ? & P\\\\\n",
              "\t 633 & S & 52 & M & 4 & 130 & 0   & ? & 0 & 120 & 0 & 0    & 2 & ? & 7 & P\\\\\n",
              "\t 746 & V & 51 & M & 4 & ?   & 0   & 1 & 1 & ?   & ? & ?    & ? & ? & ? & P\\\\\n",
              "\t 691 & S & 62 & M & 1 & 120 & 0   & ? & 2 & 134 & 0 & -0,8 & 2 & 2 & ? & P\\\\\n",
              "\t 285 & C & 58 & M & 4 & 114 & 318 & 0 & 1 & 140 & 0 & 4,4  & 3 & 3 & 6 & P\\\\\n",
              "\t 405 & H & 49 & F & 2 & 110 & ?   & 0 & 0 & 160 & 0 & 0    & ? & ? & ? & A\\\\\n",
              "\t 489 & H & 62 & F & 1 & 160 & 193 & 0 & 0 & 116 & 0 & 0    & ? & ? & ? & A\\\\\n",
              "\t 716 & S & 70 & M & 4 & 140 & 0   & 1 & 0 & 157 & 1 & 2    & 2 & ? & 7 & P\\\\\n",
              "\t 578 & H & 59 & M & 4 & 130 & ?   & 0 & 0 & 125 & 0 & 0    & ? & ? & ? & P\\\\\n",
              "\t 145 & C & 47 & M & 3 & 108 & 243 & 0 & 0 & 152 & 0 & 0    & 1 & 0 & 3 & P\\\\\n",
              "\t 295 & C & 41 & M & 2 & 120 & 157 & 0 & 0 & 182 & 0 & 0    & 1 & 0 & 3 & A\\\\\n",
              "\t 432 & H & 52 & M & 2 & 160 & 196 & 0 & 0 & 165 & 0 & 0    & ? & ? & ? & A\\\\\n",
              "\t 507 & H & 47 & M & 3 & 140 & 193 & 0 & 0 & 145 & 1 & 1    & 2 & ? & ? & P\\\\\n",
              "\t 757 & V & 60 & M & 4 & 120 & 0   & 0 & 0 & 133 & 1 & 2    & 1 & ? & 7 & A\\\\\n",
              "\t 286 & C & 58 & F & 4 & 170 & 225 & 1 & 2 & 146 & 1 & 2,8  & 2 & 2 & 6 & P\\\\\n",
              "\t 118 & C & 63 & M & 4 & 130 & 330 & 1 & 2 & 132 & 1 & 1,8  & 1 & 3 & 7 & P\\\\\n",
              "\t  73 & C & 65 & M & 4 & 110 & 248 & 0 & 2 & 158 & 0 & 0,6  & 1 & 2 & 6 & P\\\\\n",
              "\t 371 & H & 44 & M & 2 & 120 & 184 & 0 & 0 & 142 & 0 & 1    & 2 & ? & ? & A\\\\\n",
              "\t 742 & V & 63 & M & 3 & 130 & 0   & 0 & 1 & 111 & 1 & 0    & ? & ? & ? & P\\\\\n",
              "\t 521 & H & 55 & M & 4 & 140 & 201 & 0 & 0 & 130 & 1 & 3    & 2 & ? & ? & P\\\\\n",
              "\t 396 & H & 48 & F & 3 & 120 & 195 & 0 & 0 & 125 & 0 & 0    & ? & ? & ? & A\\\\\n",
              "\t 714 & S & 69 & M & 4 & ?   & 0   & 0 & 1 & ?   & ? & ?    & ? & ? & 7 & P\\\\\n",
              "\t 103 & C & 71 & F & 3 & 110 & 265 & 1 & 2 & 130 & 0 & 0    & 1 & 1 & 3 & A\\\\\n",
              "\t 854 & V & 55 & M & 4 & 172 & 260 & 0 & 0 & 73  & 0 & 2    & ? & ? & ? & P\\\\\n",
              "\t 619 & S & 47 & M & 4 & 110 & 0   & ? & 1 & 149 & 0 & 2,1  & 1 & ? & ? & P\\\\\n",
              "\t 173 & C & 62 & F & 4 & 140 & 394 & 0 & 2 & 157 & 0 & 1,2  & 2 & 0 & 3 & A\\\\\n",
              "\\end{tabular}\n"
            ],
            "text/markdown": [
              "\n",
              "A data.frame: 613 × 16\n",
              "\n",
              "| Paciente &lt;int&gt; | Hospital &lt;chr&gt; | Idade &lt;int&gt; | Sexo &lt;chr&gt; | TDP &lt;int&gt; | PAR &lt;chr&gt; | CS &lt;chr&gt; | ASJ &lt;chr&gt; | ECG &lt;chr&gt; | FCM &lt;chr&gt; | AIE &lt;chr&gt; | DST &lt;chr&gt; | IST &lt;chr&gt; | NVP &lt;chr&gt; | Talassemia &lt;chr&gt; | Diagnostico &lt;chr&gt; |\n",
              "|---|---|---|---|---|---|---|---|---|---|---|---|---|---|---|---|\n",
              "| 262 | C | 60 | F | 1 | 150 | 240 | 0 | 0 | 171 | 0 | 0,9 | 1 | 0 | 3 | A |\n",
              "| 520 | H | 54 | M | 4 | 125 | 224 | 0 | 0 | 122 | 0 | 2   | 2 | ? | ? | P |\n",
              "| 264 | C | 61 | M | 4 | 138 | 166 | 0 | 2 | 125 | 1 | 3,6 | 2 | 1 | 3 | P |\n",
              "| 674 | S | 60 | M | 3 | 115 | 0   | ? | 0 | 143 | 0 | 2,4 | 1 | ? | ? | P |\n",
              "| 102 | C | 57 | F | 4 | 128 | 303 | 0 | 2 | 159 | 0 | 0   | 1 | 1 | 3 | A |\n",
              "| 315 | H | 35 | F | 1 | 120 | 160 | 0 | 1 | 185 | 0 | 0   | ? | ? | ? | A |\n",
              "| 471 | H | 56 | M | 3 | 130 | ?   | 0 | 0 | 114 | 0 | 0   | ? | ? | ? | A |\n",
              "| 914 | V | 46 | M | 4 | 134 | 310 | 0 | 0 | 126 | 0 | 0   | ? | ? | 3 | P |\n",
              "|  31 | C | 60 | M | 4 | 117 | 230 | 1 | 0 | 160 | 1 | 1,4 | 1 | 2 | 7 | P |\n",
              "|  90 | C | 66 | M | 4 | 120 | 302 | 0 | 2 | 151 | 0 | 0,4 | 2 | 0 | 3 | A |\n",
              "| 655 | S | 56 | M | 4 | 115 | 0   | ? | 1 | 82  | 0 | -1  | 1 | ? | ? | P |\n",
              "| 401 | H | 48 | M | 2 | 130 | 245 | 0 | 0 | 160 | 0 | 0   | ? | ? | ? | A |\n",
              "| 132 | C | 29 | M | 2 | 130 | 204 | 0 | 2 | 202 | 0 | 0   | 1 | 0 | 3 | A |\n",
              "|  33 | C | 59 | M | 4 | 135 | 234 | 0 | 0 | 161 | 0 | 0,5 | 2 | 0 | 7 | A |\n",
              "| 515 | H | 50 | F | 3 | 140 | 288 | 0 | 0 | 140 | 1 | 0   | ? | ? | 7 | P |\n",
              "| 482 | H | 59 | M | 2 | 140 | 287 | 0 | 0 | 150 | 0 | 0   | ? | ? | ? | A |\n",
              "| 419 | H | 51 | F | 2 | 160 | 194 | 0 | 0 | 170 | 0 | 0   | ? | ? | ? | A |\n",
              "| 915 | V | 54 | F | 4 | 127 | 333 | 1 | 1 | 154 | 0 | 0   | ? | ? | ? | P |\n",
              "| 275 | C | 64 | M | 1 | 170 | 227 | 0 | 2 | 155 | 0 | 0,6 | 2 | 0 | 7 | A |\n",
              "| 572 | H | 55 | M | 2 | 160 | 292 | 1 | 0 | 143 | 1 | 2   | 2 | ? | ? | P |\n",
              "| 387 | H | 46 | M | 4 | 180 | 280 | 0 | 1 | 120 | 0 | 0   | ? | ? | ? | A |\n",
              "| 582 | H | 41 | M | 4 | 120 | 336 | 0 | 0 | 118 | 1 | 3   | 2 | ? | ? | P |\n",
              "| 544 | H | 54 | M | 3 | 120 | 237 | 0 | 0 | 150 | 1 | 1,5 | ? | ? | 7 | P |\n",
              "| 758 | V | 58 | M | 4 | ?   | 203 | 1 | 0 | ?   | ? | ?   | ? | ? | ? | P |\n",
              "| 567 | H | 52 | M | 4 | 160 | 246 | 0 | 1 | 82  | 1 | 4   | 2 | ? | ? | P |\n",
              "| 461 | H | 55 | F | 2 | 130 | 394 | 0 | 2 | 150 | 0 | 0   | ? | ? | ? | A |\n",
              "| 244 | C | 60 | F | 3 | 120 | 178 | 1 | 0 | 96  | 0 | 0   | 1 | 0 | 3 | A |\n",
              "|  68 | C | 59 | M | 4 | 170 | 326 | 0 | 2 | 140 | 1 | 3,4 | 3 | 0 | 7 | P |\n",
              "| 328 | H | 37 | M | 4 | 120 | 223 | 0 | 0 | 168 | 0 | 0   | ? | ? | 3 | A |\n",
              "| 105 | C | 54 | M | 2 | 108 | 309 | 0 | 0 | 156 | 0 | 0   | 1 | 0 | 7 | A |\n",
              "| ⋮ | ⋮ | ⋮ | ⋮ | ⋮ | ⋮ | ⋮ | ⋮ | ⋮ | ⋮ | ⋮ | ⋮ | ⋮ | ⋮ | ⋮ | ⋮ |\n",
              "|  23 | C | 58 | M | 3 | 132 | 224 | 0 | 2 | 173 | 0 | 3,2  | 1 | 2 | 7 | P |\n",
              "| 623 | S | 50 | M | 4 | 115 | 0   | 0 | 0 | 120 | 1 | 0,5  | 2 | ? | 6 | P |\n",
              "| 247 | C | 47 | M | 4 | 110 | 275 | 0 | 2 | 118 | 1 | 1    | 2 | 1 | 3 | P |\n",
              "| 384 | H | 46 | M | 3 | 150 | 163 | ? | 0 | 116 | 0 | 0    | ? | ? | ? | A |\n",
              "| 882 | V | 57 | M | 4 | 156 | 173 | 0 | 2 | 119 | 1 | 3    | 3 | ? | ? | P |\n",
              "| 633 | S | 52 | M | 4 | 130 | 0   | ? | 0 | 120 | 0 | 0    | 2 | ? | 7 | P |\n",
              "| 746 | V | 51 | M | 4 | ?   | 0   | 1 | 1 | ?   | ? | ?    | ? | ? | ? | P |\n",
              "| 691 | S | 62 | M | 1 | 120 | 0   | ? | 2 | 134 | 0 | -0,8 | 2 | 2 | ? | P |\n",
              "| 285 | C | 58 | M | 4 | 114 | 318 | 0 | 1 | 140 | 0 | 4,4  | 3 | 3 | 6 | P |\n",
              "| 405 | H | 49 | F | 2 | 110 | ?   | 0 | 0 | 160 | 0 | 0    | ? | ? | ? | A |\n",
              "| 489 | H | 62 | F | 1 | 160 | 193 | 0 | 0 | 116 | 0 | 0    | ? | ? | ? | A |\n",
              "| 716 | S | 70 | M | 4 | 140 | 0   | 1 | 0 | 157 | 1 | 2    | 2 | ? | 7 | P |\n",
              "| 578 | H | 59 | M | 4 | 130 | ?   | 0 | 0 | 125 | 0 | 0    | ? | ? | ? | P |\n",
              "| 145 | C | 47 | M | 3 | 108 | 243 | 0 | 0 | 152 | 0 | 0    | 1 | 0 | 3 | P |\n",
              "| 295 | C | 41 | M | 2 | 120 | 157 | 0 | 0 | 182 | 0 | 0    | 1 | 0 | 3 | A |\n",
              "| 432 | H | 52 | M | 2 | 160 | 196 | 0 | 0 | 165 | 0 | 0    | ? | ? | ? | A |\n",
              "| 507 | H | 47 | M | 3 | 140 | 193 | 0 | 0 | 145 | 1 | 1    | 2 | ? | ? | P |\n",
              "| 757 | V | 60 | M | 4 | 120 | 0   | 0 | 0 | 133 | 1 | 2    | 1 | ? | 7 | A |\n",
              "| 286 | C | 58 | F | 4 | 170 | 225 | 1 | 2 | 146 | 1 | 2,8  | 2 | 2 | 6 | P |\n",
              "| 118 | C | 63 | M | 4 | 130 | 330 | 1 | 2 | 132 | 1 | 1,8  | 1 | 3 | 7 | P |\n",
              "|  73 | C | 65 | M | 4 | 110 | 248 | 0 | 2 | 158 | 0 | 0,6  | 1 | 2 | 6 | P |\n",
              "| 371 | H | 44 | M | 2 | 120 | 184 | 0 | 0 | 142 | 0 | 1    | 2 | ? | ? | A |\n",
              "| 742 | V | 63 | M | 3 | 130 | 0   | 0 | 1 | 111 | 1 | 0    | ? | ? | ? | P |\n",
              "| 521 | H | 55 | M | 4 | 140 | 201 | 0 | 0 | 130 | 1 | 3    | 2 | ? | ? | P |\n",
              "| 396 | H | 48 | F | 3 | 120 | 195 | 0 | 0 | 125 | 0 | 0    | ? | ? | ? | A |\n",
              "| 714 | S | 69 | M | 4 | ?   | 0   | 0 | 1 | ?   | ? | ?    | ? | ? | 7 | P |\n",
              "| 103 | C | 71 | F | 3 | 110 | 265 | 1 | 2 | 130 | 0 | 0    | 1 | 1 | 3 | A |\n",
              "| 854 | V | 55 | M | 4 | 172 | 260 | 0 | 0 | 73  | 0 | 2    | ? | ? | ? | P |\n",
              "| 619 | S | 47 | M | 4 | 110 | 0   | ? | 1 | 149 | 0 | 2,1  | 1 | ? | ? | P |\n",
              "| 173 | C | 62 | F | 4 | 140 | 394 | 0 | 2 | 157 | 0 | 1,2  | 2 | 0 | 3 | A |\n",
              "\n"
            ],
            "text/plain": [
              "    Paciente Hospital Idade Sexo TDP PAR CS  ASJ ECG FCM AIE DST  IST NVP\n",
              "1   262      C        60    F    1   150 240 0   0   171 0   0,9  1   0  \n",
              "2   520      H        54    M    4   125 224 0   0   122 0   2    2   ?  \n",
              "3   264      C        61    M    4   138 166 0   2   125 1   3,6  2   1  \n",
              "4   674      S        60    M    3   115 0   ?   0   143 0   2,4  1   ?  \n",
              "5   102      C        57    F    4   128 303 0   2   159 0   0    1   1  \n",
              "6   315      H        35    F    1   120 160 0   1   185 0   0    ?   ?  \n",
              "7   471      H        56    M    3   130 ?   0   0   114 0   0    ?   ?  \n",
              "8   914      V        46    M    4   134 310 0   0   126 0   0    ?   ?  \n",
              "9    31      C        60    M    4   117 230 1   0   160 1   1,4  1   2  \n",
              "10   90      C        66    M    4   120 302 0   2   151 0   0,4  2   0  \n",
              "11  655      S        56    M    4   115 0   ?   1   82  0   -1   1   ?  \n",
              "12  401      H        48    M    2   130 245 0   0   160 0   0    ?   ?  \n",
              "13  132      C        29    M    2   130 204 0   2   202 0   0    1   0  \n",
              "14   33      C        59    M    4   135 234 0   0   161 0   0,5  2   0  \n",
              "15  515      H        50    F    3   140 288 0   0   140 1   0    ?   ?  \n",
              "16  482      H        59    M    2   140 287 0   0   150 0   0    ?   ?  \n",
              "17  419      H        51    F    2   160 194 0   0   170 0   0    ?   ?  \n",
              "18  915      V        54    F    4   127 333 1   1   154 0   0    ?   ?  \n",
              "19  275      C        64    M    1   170 227 0   2   155 0   0,6  2   0  \n",
              "20  572      H        55    M    2   160 292 1   0   143 1   2    2   ?  \n",
              "21  387      H        46    M    4   180 280 0   1   120 0   0    ?   ?  \n",
              "22  582      H        41    M    4   120 336 0   0   118 1   3    2   ?  \n",
              "23  544      H        54    M    3   120 237 0   0   150 1   1,5  ?   ?  \n",
              "24  758      V        58    M    4   ?   203 1   0   ?   ?   ?    ?   ?  \n",
              "25  567      H        52    M    4   160 246 0   1   82  1   4    2   ?  \n",
              "26  461      H        55    F    2   130 394 0   2   150 0   0    ?   ?  \n",
              "27  244      C        60    F    3   120 178 1   0   96  0   0    1   0  \n",
              "28   68      C        59    M    4   170 326 0   2   140 1   3,4  3   0  \n",
              "29  328      H        37    M    4   120 223 0   0   168 0   0    ?   ?  \n",
              "30  105      C        54    M    2   108 309 0   0   156 0   0    1   0  \n",
              "⋮   ⋮        ⋮        ⋮     ⋮    ⋮   ⋮   ⋮   ⋮   ⋮   ⋮   ⋮   ⋮    ⋮   ⋮  \n",
              "584  23      C        58    M    3   132 224 0   2   173 0   3,2  1   2  \n",
              "585 623      S        50    M    4   115 0   0   0   120 1   0,5  2   ?  \n",
              "586 247      C        47    M    4   110 275 0   2   118 1   1    2   1  \n",
              "587 384      H        46    M    3   150 163 ?   0   116 0   0    ?   ?  \n",
              "588 882      V        57    M    4   156 173 0   2   119 1   3    3   ?  \n",
              "589 633      S        52    M    4   130 0   ?   0   120 0   0    2   ?  \n",
              "590 746      V        51    M    4   ?   0   1   1   ?   ?   ?    ?   ?  \n",
              "591 691      S        62    M    1   120 0   ?   2   134 0   -0,8 2   2  \n",
              "592 285      C        58    M    4   114 318 0   1   140 0   4,4  3   3  \n",
              "593 405      H        49    F    2   110 ?   0   0   160 0   0    ?   ?  \n",
              "594 489      H        62    F    1   160 193 0   0   116 0   0    ?   ?  \n",
              "595 716      S        70    M    4   140 0   1   0   157 1   2    2   ?  \n",
              "596 578      H        59    M    4   130 ?   0   0   125 0   0    ?   ?  \n",
              "597 145      C        47    M    3   108 243 0   0   152 0   0    1   0  \n",
              "598 295      C        41    M    2   120 157 0   0   182 0   0    1   0  \n",
              "599 432      H        52    M    2   160 196 0   0   165 0   0    ?   ?  \n",
              "600 507      H        47    M    3   140 193 0   0   145 1   1    2   ?  \n",
              "601 757      V        60    M    4   120 0   0   0   133 1   2    1   ?  \n",
              "602 286      C        58    F    4   170 225 1   2   146 1   2,8  2   2  \n",
              "603 118      C        63    M    4   130 330 1   2   132 1   1,8  1   3  \n",
              "604  73      C        65    M    4   110 248 0   2   158 0   0,6  1   2  \n",
              "605 371      H        44    M    2   120 184 0   0   142 0   1    2   ?  \n",
              "606 742      V        63    M    3   130 0   0   1   111 1   0    ?   ?  \n",
              "607 521      H        55    M    4   140 201 0   0   130 1   3    2   ?  \n",
              "608 396      H        48    F    3   120 195 0   0   125 0   0    ?   ?  \n",
              "609 714      S        69    M    4   ?   0   0   1   ?   ?   ?    ?   ?  \n",
              "610 103      C        71    F    3   110 265 1   2   130 0   0    1   1  \n",
              "611 854      V        55    M    4   172 260 0   0   73  0   2    ?   ?  \n",
              "612 619      S        47    M    4   110 0   ?   1   149 0   2,1  1   ?  \n",
              "613 173      C        62    F    4   140 394 0   2   157 0   1,2  2   0  \n",
              "    Talassemia Diagnostico\n",
              "1   3          A          \n",
              "2   ?          P          \n",
              "3   3          P          \n",
              "4   ?          P          \n",
              "5   3          A          \n",
              "6   ?          A          \n",
              "7   ?          A          \n",
              "8   3          P          \n",
              "9   7          P          \n",
              "10  3          A          \n",
              "11  ?          P          \n",
              "12  ?          A          \n",
              "13  3          A          \n",
              "14  7          A          \n",
              "15  7          P          \n",
              "16  ?          A          \n",
              "17  ?          A          \n",
              "18  ?          P          \n",
              "19  7          A          \n",
              "20  ?          P          \n",
              "21  ?          A          \n",
              "22  ?          P          \n",
              "23  7          P          \n",
              "24  ?          P          \n",
              "25  ?          P          \n",
              "26  ?          A          \n",
              "27  3          A          \n",
              "28  7          P          \n",
              "29  3          A          \n",
              "30  7          A          \n",
              "⋮   ⋮          ⋮          \n",
              "584 7          P          \n",
              "585 6          P          \n",
              "586 3          P          \n",
              "587 ?          A          \n",
              "588 ?          P          \n",
              "589 7          P          \n",
              "590 ?          P          \n",
              "591 ?          P          \n",
              "592 6          P          \n",
              "593 ?          A          \n",
              "594 ?          A          \n",
              "595 7          P          \n",
              "596 ?          P          \n",
              "597 3          P          \n",
              "598 3          A          \n",
              "599 ?          A          \n",
              "600 ?          P          \n",
              "601 7          A          \n",
              "602 6          P          \n",
              "603 7          P          \n",
              "604 6          P          \n",
              "605 ?          A          \n",
              "606 ?          P          \n",
              "607 ?          P          \n",
              "608 ?          A          \n",
              "609 7          P          \n",
              "610 3          A          \n",
              "611 ?          P          \n",
              "612 ?          P          \n",
              "613 3          A          "
            ]
          },
          "metadata": {},
          "output_type": "display_data"
        },
        {
          "data": {
            "text/plain": [
              "    Paciente       Hospital             Idade           Sexo          \n",
              " Min.   :  2.0   Length:613         Min.   :28.00   Length:613        \n",
              " 1st Qu.:234.0   Class :character   1st Qu.:47.00   Class :character  \n",
              " Median :469.0   Mode  :character   Median :54.00   Mode  :character  \n",
              " Mean   :460.5                      Mean   :53.72                     \n",
              " 3rd Qu.:691.0                      3rd Qu.:60.00                     \n",
              " Max.   :919.0                      Max.   :77.00                     \n",
              "      TDP            PAR                 CS                ASJ           \n",
              " Min.   :1.000   Length:613         Length:613         Length:613        \n",
              " 1st Qu.:3.000   Class :character   Class :character   Class :character  \n",
              " Median :4.000   Mode  :character   Mode  :character   Mode  :character  \n",
              " Mean   :3.269                                                           \n",
              " 3rd Qu.:4.000                                                           \n",
              " Max.   :4.000                                                           \n",
              "     ECG                FCM                AIE                DST           \n",
              " Length:613         Length:613         Length:613         Length:613        \n",
              " Class :character   Class :character   Class :character   Class :character  \n",
              " Mode  :character   Mode  :character   Mode  :character   Mode  :character  \n",
              "                                                                            \n",
              "                                                                            \n",
              "                                                                            \n",
              "     IST                NVP             Talassemia        Diagnostico       \n",
              " Length:613         Length:613         Length:613         Length:613        \n",
              " Class :character   Class :character   Class :character   Class :character  \n",
              " Mode  :character   Mode  :character   Mode  :character   Mode  :character  \n",
              "                                                                            \n",
              "                                                                            \n",
              "                                                                            "
            ]
          },
          "metadata": {},
          "output_type": "display_data"
        }
      ],
      "source": [
        "heart.train <- read.csv2(\"/content/heart-train.csv\")\n",
        "View(heart.train)\n",
        "\n",
        "summary(heart.train)\n"
      ]
    },
    {
      "cell_type": "markdown",
      "metadata": {
        "id": "CPwOz3EWuO64"
      },
      "source": [
        "Analisamos então as variáveis Paciente, como mencionado acima (sem missing values), assim como as variável Hospital, Idade, Sexo e TDP (todas sem N/As).\n",
        "\n",
        "As Variáveis Hospital onde os Pacientes estão divididos em 4 Hospitais ( o Hospital \"C\" com 199 pacientes, o \"H\" com 202 pacientes, o \"S\" com 82 pacientes e o \"V\" com 130 pacientes) totalizando os 613 pacientes observados.\n",
        "\n",
        "A Idade também está totalmente preenchida e tem como valores base: Mínimo de 28 anos, Máximo de 77 anos, o 1º quartil apresentando o valor de 47 anos, a Mediana com 54 anos, a Média apresentando o valor de 53,72 anos e o 3º quartil com o valor de 60 anos. Não apresentou nenhum outlier.\n",
        "\n",
        "A divisão dos pacientes de acordo com seu Sexo, apresentou 124 pacientes do sexo Feminino e 489 do sexo masculino. Novamente todos os dados preenchidos.\n",
        "\n",
        "Em relação à variável TDP (tipo de dor no peito) o amostra foi completamente distribuída nos quatro tipos (1, 2, 3 e 4) sendo o 1 com a presença de Angina Típica, 2 com Angina Atípica, 3 com dor não anginal e 4 assintomática. Cada um desses tipos tiveram a seguinte faixa de frequências, 26, 111, 148 e 328, respectivamente."
      ]
    },
    {
      "cell_type": "code",
      "execution_count": 6,
      "metadata": {
        "colab": {
          "base_uri": "https://localhost:8080/",
          "height": 1000
        },
        "id": "GWH57s0wuQhA",
        "outputId": "c5b447a1-080f-4de9-8ff6-5b22bd1a6021",
        "vscode": {
          "languageId": "r"
        }
      },
      "outputs": [
        {
          "data": {
            "text/plain": [
              "   Min. 1st Qu.  Median    Mean 3rd Qu.    Max. \n",
              "    2.0   234.0   469.0   460.5   691.0   919.0 "
            ]
          },
          "metadata": {},
          "output_type": "display_data"
        },
        {
          "data": {
            "text/plain": [
              "\n",
              "  C   H   S   V \n",
              "199 202  82 130 "
            ]
          },
          "metadata": {},
          "output_type": "display_data"
        },
        {
          "data": {
            "text/plain": [
              "   Min. 1st Qu.  Median    Mean 3rd Qu.    Max. \n",
              "  28.00   47.00   54.00   53.72   60.00   77.00 "
            ]
          },
          "metadata": {},
          "output_type": "display_data"
        },
        {
          "data": {
            "text/plain": [
              "\n",
              "  F   M \n",
              "124 489 "
            ]
          },
          "metadata": {},
          "output_type": "display_data"
        },
        {
          "data": {
            "image/png": "[encoded data removed]",
            "text/plain": [
              "Plot with title “Idade”"
            ]
          },
          "metadata": {
            "image/png": {
              "height": 420,
              "width": 420
            }
          },
          "output_type": "display_data"
        },
        {
          "data": {
            "text/plain": [
              "   Min. 1st Qu.  Median    Mean 3rd Qu.    Max. \n",
              "  1.000   3.000   4.000   3.269   4.000   4.000 "
            ]
          },
          "metadata": {},
          "output_type": "display_data"
        },
        {
          "data": {
            "text/plain": [
              "\n",
              "  1   2   3   4 \n",
              " 26 111 148 328 "
            ]
          },
          "metadata": {},
          "output_type": "display_data"
        },
        {
          "data": {
            "text/plain": [
              "   Length     Class      Mode \n",
              "      613 character character "
            ]
          },
          "metadata": {},
          "output_type": "display_data"
        },
        {
          "data": {
            "text/plain": [
              "\n",
              "  ? 100 101 102 104 105 106 108 110 112 113 114 115 116 117 118 120 122 124 125 \n",
              " 42  11   1   2   2   4   2   7  36   5   1   2  15   2   1   5  91   6   7  17 \n",
              "126 127 128 129 130 132 134 135 136 138 140 142 144 145 146 148 150 152 154 155 \n",
              "  2   1  12   1  80   8   4  16   4   7  68   6   5  12   2   2  39   5   1   4 \n",
              "156 158 160 164 165 170 172 174 178 180 185 200  80  92  94  95  98 \n",
              "  2   2  40   1   1   9   2   1   1   6   1   2   1   1   1   3   1 "
            ]
          },
          "metadata": {},
          "output_type": "display_data"
        },
        {
          "data": {
            "image/png": "[encoded data removed]",
            "text/plain": [
              "Plot with title “TDP”"
            ]
          },
          "metadata": {
            "image/png": {
              "height": 420,
              "width": 420
            }
          },
          "output_type": "display_data"
        }
      ],
      "source": [
        "summary(heart.train$Paciente)\n",
        "\n",
        "table(heart.train$Hospital)\n",
        "\n",
        "boxplot(heart.train$Idade  , main=\"Idade\", col=3);grid(col=1)\n",
        "summary(heart.train$Idade)\n",
        "\n",
        "table(heart.train$Sexo)\n",
        "\n",
        "hist(heart.train$TDP  , main=\"TDP\", col=3);grid(col=1)\n",
        "summary(heart.train$TDP)\n",
        "table(heart.train$TDP)\n"
      ]
    },
    {
      "cell_type": "markdown",
      "metadata": {
        "id": "pQpoVuPDMXXn"
      },
      "source": [
        "Continuando a execução do código, verificamos: \n",
        "\n",
        "  A Variável PAR (Pressão Arterial em Repouso) apesar apresentar valores considerados normais em uma observação clínica (entre 80 e 200), conforme a distribuição de frequências abaixo, apresentou 42 observações sem preenchimento (missing value) que foram preenchidas com o caractere \"?\".\n"
      ]
    },
    {
      "cell_type": "code",
      "execution_count": 7,
      "metadata": {
        "colab": {
          "base_uri": "https://localhost:8080/",
          "height": 168
        },
        "id": "H5T9hgyH4YFL",
        "outputId": "668ada40-65bb-4400-a17d-9e0d647d5d81",
        "vscode": {
          "languageId": "r"
        }
      },
      "outputs": [
        {
          "data": {
            "text/plain": [
              "   Length     Class      Mode \n",
              "      613 character character "
            ]
          },
          "metadata": {},
          "output_type": "display_data"
        },
        {
          "data": {
            "text/plain": [
              "\n",
              "  ? 100 101 102 104 105 106 108 110 112 113 114 115 116 117 118 120 122 124 125 \n",
              " 42  11   1   2   2   4   2   7  36   5   1   2  15   2   1   5  91   6   7  17 \n",
              "126 127 128 129 130 132 134 135 136 138 140 142 144 145 146 148 150 152 154 155 \n",
              "  2   1  12   1  80   8   4  16   4   7  68   6   5  12   2   2  39   5   1   4 \n",
              "156 158 160 164 165 170 172 174 178 180 185 200  80  92  94  95  98 \n",
              "  2   2  40   1   1   9   2   1   1   6   1   2   1   1   1   3   1 "
            ]
          },
          "metadata": {},
          "output_type": "display_data"
        }
      ],
      "source": [
        "summary(heart.train$PAR)\n",
        "table(heart.train$PAR)"
      ]
    },
    {
      "cell_type": "markdown",
      "metadata": {
        "id": "QaPZicSE7EJi"
      },
      "source": [
        "A distribuição de frequência da variável CS (Colesterol Sérico) se apresentou de forma normalmente distribuída, porém com a presença de 20 N/As e 115 valores zerados."
      ]
    },
    {
      "cell_type": "code",
      "execution_count": 8,
      "metadata": {
        "colab": {
          "base_uri": "https://localhost:8080/",
          "height": 403
        },
        "id": "czqL7a5H7Fep",
        "outputId": "5406a5a7-79a7-4a19-cf07-4c86aed2e290",
        "vscode": {
          "languageId": "r"
        }
      },
      "outputs": [
        {
          "data": {
            "text/plain": [
              "   Length     Class      Mode \n",
              "      613 character character "
            ]
          },
          "metadata": {},
          "output_type": "display_data"
        },
        {
          "data": {
            "text/plain": [
              "\n",
              "  ?   0 100 117 129 131 132 139 141 142 147 149 153 156 157 160 161 163 164 166 \n",
              " 20 115   1   1   1   1   1   1   1   1   2   1   1   1   1   4   1   2   2   2 \n",
              "168 169 170 171 172 173 174 175 176 177 178 179 180 182 184 185 186 187 188 190 \n",
              "  2   1   1   1   2   2   1   3   1   2   1   1   2   1   3   1   3   1   3   1 \n",
              "192 193 194 195 196 197 198 199 200 201 202 203 204 205 206 207 208 209 210 211 \n",
              "  1   3   2   6   5   7   3   2   3   4   3   5   5   2   3   3   3   3   2   5 \n",
              "212 213 214 215 216 217 218 219 220 221 222 223 224 225 226 227 228 229 230 231 \n",
              "  4   4   4   2   7   4   2   6   7   4   5   6   6   4   5   2   3   4   6   2 \n",
              "232 233 234 235 236 237 238 239 240 241 242 243 244 245 246 247 248 249 250 251 \n",
              "  2   4   3   2   4   3   1   1   3   2   2   6   3   6   8   3   3   3   3   1 \n",
              "252 253 254 255 256 257 258 259 260 261 262 263 264 265 266 267 268 269 270 271 \n",
              "  3   4   7   1   4   2   3   1   4   1   1   5   5   4   2   5   3   3   4   2 \n",
              "272 273 274 275 276 277 278 279 280 282 283 284 285 287 288 289 290 291 292 294 \n",
              "  1   1   4   4   1   5   1   1   2   4   1   2   2   1   3   4   1   3   3   2 \n",
              "295 297 298 299 300 302 303 304 305 306 307 308 309 310 311 312 315 316 318 319 \n",
              "  3   3   3   2   2   2   2   2   1   2   1   3   4   3   1   1   3   1   3   1 \n",
              "320 321 322 325 326 329 330 331 333 335 336 337 338 339 340 341 342 347 349 353 \n",
              "  1   1   1   2   2   1   2   1   1   1   1   1   1   1   2   3   1   1   1   1 \n",
              "354 355 360 365 369 385 388 392 394 404 407 409 417 468 491 518 529 564 603  85 \n",
              "  1   1   1   1   1   1   1   1   2   1   1   1   1   1   1   1   1   1   1   1 "
            ]
          },
          "metadata": {},
          "output_type": "display_data"
        }
      ],
      "source": [
        "summary(heart.train$CS)\n",
        "table(heart.train$CS)"
      ]
    },
    {
      "cell_type": "markdown",
      "metadata": {
        "id": "Uw_ZmpZKEMOB"
      },
      "source": [
        "A distribuição de frequência da variável ASJ (Açúcar Sérico em Jejum > 120mg/dL) se apresentou de forma normal, porém com a presença de 60 N/As,  455 com ausência dessa anormalidade e 98 presenças."
      ]
    },
    {
      "cell_type": "code",
      "execution_count": 9,
      "metadata": {
        "colab": {
          "base_uri": "https://localhost:8080/",
          "height": 101
        },
        "id": "65IFUTjmEHJI",
        "outputId": "87ed401e-2912-4f8d-b449-169b9a17364b",
        "vscode": {
          "languageId": "r"
        }
      },
      "outputs": [
        {
          "data": {
            "text/plain": [
              "   Length     Class      Mode \n",
              "      613 character character "
            ]
          },
          "metadata": {},
          "output_type": "display_data"
        },
        {
          "data": {
            "text/plain": [
              "\n",
              "  ?   0   1 \n",
              " 60 455  98 "
            ]
          },
          "metadata": {},
          "output_type": "display_data"
        }
      ],
      "source": [
        "summary(heart.train$ASJ)\n",
        "table(heart.train$ASJ)"
      ]
    },
    {
      "cell_type": "markdown",
      "metadata": {
        "id": "Q0mzmIfBFdzE"
      },
      "source": [
        "A distribuição de frequência da variável ECG (Resultados Eletroardiográficos em Repouso) se apresentou de forma normal, porém com a presença de 2 N/As, 366 valores considerados normais, 118 valores com anormalidade da onda e 127 valores apresentando hipertrofia ventricular esquerda."
      ]
    },
    {
      "cell_type": "code",
      "execution_count": 10,
      "metadata": {
        "colab": {
          "base_uri": "https://localhost:8080/",
          "height": 101
        },
        "id": "1d9rGnSFFf9t",
        "outputId": "99709162-fdb8-40e6-d6e6-64751761d142",
        "vscode": {
          "languageId": "r"
        }
      },
      "outputs": [
        {
          "data": {
            "text/plain": [
              "   Length     Class      Mode \n",
              "      613 character character "
            ]
          },
          "metadata": {},
          "output_type": "display_data"
        },
        {
          "data": {
            "text/plain": [
              "\n",
              "  ?   0   1   2 \n",
              "  2 366 118 127 "
            ]
          },
          "metadata": {},
          "output_type": "display_data"
        }
      ],
      "source": [
        "summary(heart.train$ECG)\n",
        "table(heart.train$ECG)"
      ]
    },
    {
      "cell_type": "markdown",
      "metadata": {
        "id": "mhz6LXbiGgy7"
      },
      "source": [
        "A variável FCM (frequencia Cardíaca Máxima) se apresentou com 574 valores normais em uma distribuição e 39 missing values (N/As)"
      ]
    },
    {
      "cell_type": "code",
      "execution_count": 11,
      "metadata": {
        "colab": {
          "base_uri": "https://localhost:8080/",
          "height": 269
        },
        "id": "WcnjBjtGGirs",
        "outputId": "fe5417ed-244a-4a10-81c4-dfc7ead7a4a4",
        "vscode": {
          "languageId": "r"
        }
      },
      "outputs": [
        {
          "data": {
            "text/plain": [
              "   Length     Class      Mode \n",
              "      613 character character "
            ]
          },
          "metadata": {},
          "output_type": "display_data"
        },
        {
          "data": {
            "text/plain": [
              "\n",
              "  ? 100 102 103 104 105 106 107 108 109 110 111 112 113 114 115 116 117 118 119 \n",
              " 39  11   2   1   1   7   1   1   3   1  15   4   9   2   5   8   4   2   9   4 \n",
              "120 121 122 123 124 125 126 127 128 129 130 131 132 133 134 135 136 137 138 139 \n",
              " 28   3  11   4   6  17   4   5   6   2  20   4   9   2   4   7   5   5   9   1 \n",
              "140 141 142 143 144 145 146 147 148 149 150 151 152 153 154 155 156 157 158 159 \n",
              " 25   3   5   6   6   7   5   4   6   5  28   3   6   1   7  11   5   6   6   2 \n",
              "160 161 162 163 164 165 166 167 168 169 170 171 172 173 174 175 176 177 178 179 \n",
              " 19   4   8   6   2   8   4   1   6   2  12   4   6   4   4   5   1   1   4   5 \n",
              "180 181 182 184 185 186 187 188 190 194 202  60  63  67  70  72  73  78  80  82 \n",
              "  8   2   2   3   3   2   1   1   1   1   1   1   1   1   1   2   1   1   2   3 \n",
              " 83  84  86  88  90  91  92  93  94  95  96  97  98  99 \n",
              "  1   2   3   1   3   1   4   2   3   1   4   2   9   5 "
            ]
          },
          "metadata": {},
          "output_type": "display_data"
        }
      ],
      "source": [
        "summary(heart.train$FCM)\n",
        "table(heart.train$FCM)"
      ]
    },
    {
      "cell_type": "markdown",
      "metadata": {
        "id": "-h_lx-cQH3HB"
      },
      "source": [
        "A variável AIE(Angina Induzida por Exercício) apresentou 39 Missing Values e 574 valores colhidos normalmente.\n"
      ]
    },
    {
      "cell_type": "code",
      "execution_count": 12,
      "metadata": {
        "colab": {
          "base_uri": "https://localhost:8080/",
          "height": 101
        },
        "id": "-pIyHrJDH5n6",
        "outputId": "caea2f7e-3cff-40e7-c887-d72b9db2b61c",
        "vscode": {
          "languageId": "r"
        }
      },
      "outputs": [
        {
          "data": {
            "text/plain": [
              "   Length     Class      Mode \n",
              "      613 character character "
            ]
          },
          "metadata": {},
          "output_type": "display_data"
        },
        {
          "data": {
            "text/plain": [
              "\n",
              "  ?   0   1 \n",
              " 39 351 223 "
            ]
          },
          "metadata": {},
          "output_type": "display_data"
        }
      ],
      "source": [
        "summary(heart.train$AIE)\n",
        "table(heart.train$AIE)"
      ]
    },
    {
      "cell_type": "markdown",
      "metadata": {
        "id": "0CM93FrYIcH6"
      },
      "source": [
        "Já a variável DST (Depressão do segmento Sistólico por exercício) apresentou 44 N/As e 569 valores colhidos normalmente."
      ]
    },
    {
      "cell_type": "code",
      "execution_count": 13,
      "metadata": {
        "colab": {
          "base_uri": "https://localhost:8080/",
          "height": 202
        },
        "id": "5nD-1toKIdpx",
        "outputId": "989c088f-ac9f-4d53-f5ad-8fc5e28c0e59",
        "vscode": {
          "languageId": "r"
        }
      },
      "outputs": [
        {
          "data": {
            "text/plain": [
              "   Length     Class      Mode \n",
              "      613 character character "
            ]
          },
          "metadata": {},
          "output_type": "display_data"
        },
        {
          "data": {
            "text/plain": [
              "\n",
              "-0,1 -0,5 -0,7 -0,8   -1 -1,1   -2 -2,6    ?    0  0,1  0,2  0,3  0,4  0,5  0,6 \n",
              "   1    1    1    1    2    1    1    1   44  246    4    8    3    8   16   11 \n",
              " 0,7  0,8  0,9    1  1,1  1,2  1,3  1,4  1,5  1,6  1,7  1,8  1,9    2  2,1  2,2 \n",
              "   1   12    3   55    2   12    4    9   25   10    1    8    3   53    2    2 \n",
              " 2,3  2,4  2,5  2,6  2,8  2,9    3  3,1  3,2  3,4  3,5  3,6  3,7    4  4,4    5 \n",
              "   1    4   12    4    4    1   18    1    1    2    2    3    1    4    1    1 \n",
              " 5,6  6,2 \n",
              "   1    1 "
            ]
          },
          "metadata": {},
          "output_type": "display_data"
        }
      ],
      "source": [
        "summary(heart.train$DST)\n",
        "table(heart.train$DST)"
      ]
    },
    {
      "cell_type": "markdown",
      "metadata": {
        "id": "-wKM6JOUJiQd"
      },
      "source": [
        "Já a variável IST (Inclinação do segmento Sistólico por exercício) apresentou 215 N/As e 398 valores colhidos normalmente e distribuídos nas classes 1, 2 e 3."
      ]
    },
    {
      "cell_type": "code",
      "execution_count": 14,
      "metadata": {
        "colab": {
          "base_uri": "https://localhost:8080/",
          "height": 101
        },
        "id": "HQMDdZIjJmSF",
        "outputId": "97e6a0fa-5f02-4286-c7ec-a94c34100b86",
        "vscode": {
          "languageId": "r"
        }
      },
      "outputs": [
        {
          "data": {
            "text/plain": [
              "   Length     Class      Mode \n",
              "      613 character character "
            ]
          },
          "metadata": {},
          "output_type": "display_data"
        },
        {
          "data": {
            "text/plain": [
              "\n",
              "  ?   1   2   3 \n",
              "215 134 228  36 "
            ]
          },
          "metadata": {},
          "output_type": "display_data"
        }
      ],
      "source": [
        "summary(heart.train$IST)\n",
        "table(heart.train$IST)"
      ]
    },
    {
      "cell_type": "markdown",
      "metadata": {
        "id": "zwOjL6HHKI8q"
      },
      "source": [
        "Com a variável NVP (Número de Vasos Sistólico Principais) coloridos por fluoroscopia, esta apresentou a maioria de N/As (406) e 207 valores colhidos normalmente e distribuídos nas classes 0, 1, 2 e 3."
      ]
    },
    {
      "cell_type": "code",
      "execution_count": 15,
      "metadata": {
        "colab": {
          "base_uri": "https://localhost:8080/",
          "height": 101
        },
        "id": "OJV9vBxfKKPZ",
        "outputId": "51ef9215-8e68-4cc7-fc12-850c72f6bbd7",
        "vscode": {
          "languageId": "r"
        }
      },
      "outputs": [
        {
          "data": {
            "text/plain": [
              "   Length     Class      Mode \n",
              "      613 character character "
            ]
          },
          "metadata": {},
          "output_type": "display_data"
        },
        {
          "data": {
            "text/plain": [
              "\n",
              "  ?   0   1   2   3 \n",
              "406 122  37  32  16 "
            ]
          },
          "metadata": {},
          "output_type": "display_data"
        }
      ],
      "source": [
        "summary(heart.train$NVP)\n",
        "table(heart.train$NVP)"
      ]
    },
    {
      "cell_type": "markdown",
      "metadata": {
        "id": "DLjUPX7xOLVp"
      },
      "source": [
        "Com a variável Talassemia (Número de Vasos Sistólico Principais) coloridos por fluoroscopia, esta apresentou a maioria de N/As (320) e 293 valores colhidos normalmente e distribuídos nas classes 3, 6, e 7."
      ]
    },
    {
      "cell_type": "code",
      "execution_count": 16,
      "metadata": {
        "colab": {
          "base_uri": "https://localhost:8080/",
          "height": 101
        },
        "id": "Tb7avnPaOsIg",
        "outputId": "d0b68661-d8f4-49ff-fd68-e0d6175f39c1",
        "vscode": {
          "languageId": "r"
        }
      },
      "outputs": [
        {
          "data": {
            "text/plain": [
              "   Length     Class      Mode \n",
              "      613 character character "
            ]
          },
          "metadata": {},
          "output_type": "display_data"
        },
        {
          "data": {
            "text/plain": [
              "\n",
              "  ?   3   6   7 \n",
              "320 127  30 136 "
            ]
          },
          "metadata": {},
          "output_type": "display_data"
        }
      ],
      "source": [
        "summary(heart.train$Talassemia)\n",
        "table(heart.train$Talassemia)"
      ]
    },
    {
      "cell_type": "markdown",
      "metadata": {
        "id": "vOwurLDrPOnq"
      },
      "source": [
        "Assim, encerramos a Análise Univariada do modelo.\n",
        "\n",
        "Concluímos que o grande problema que poderá levar o modelo a não convergir, será o grande número de N/As presentes em cada uma da variáveis. Outro fator que pode prejudicar a acuracidade do modelo é o número pequeno de observações (apenas 613). Com mais observações e menos Missing Values o modelo com certeza, após sua convergência, se apresentaria com muito maior acurácia e precisão.\n",
        " "
      ]
    },
    {
      "cell_type": "markdown",
      "metadata": {
        "id": "A3MnFgeaPOkJ"
      },
      "source": [
        "Para a fase seguinte com o algoritmo de Escolha do Modelo verificaremos a necessidade de enriquecer ou transformar os dados de entrada para melhor adequação ao modelo. "
      ]
    }
  ],
  "metadata": {
    "colab": {
      "authorship_tag": "ABX9TyNRccZlmjJ4aKiTdyANE76m",
      "collapsed_sections": [],
      "include_colab_link": true,
      "name": "Modelagem Preditiva - Doencas Cardiacas 1.ipynb",
      "provenance": []
    },
    "kernelspec": {
      "display_name": "R",
      "name": "ir"
    },
    "language_info": {
      "name": "R"
    }
  },
  "nbformat": 4,
  "nbformat_minor": 0
}
