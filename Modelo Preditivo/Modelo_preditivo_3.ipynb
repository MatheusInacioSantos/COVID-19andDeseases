{
  "cells": [
    {
      "cell_type": "code",
      "execution_count": 49,
      "metadata": {
        "id": "lhnIE-edDL0X"
      },
      "outputs": [],
      "source": [
        "import pandas as pd\n",
        "from matplotlib import pyplot as plt"
      ]
    },
    {
      "cell_type": "code",
      "execution_count": 50,
      "metadata": {
        "colab": {
          "base_uri": "https://localhost:8080/",
          "height": 203
        },
        "id": "hTCQzrg_DhtY",
        "outputId": "c1733306-0432-4943-e8fc-79ffd7413730"
      },
      "outputs": [
        {
          "data": {
            "text/html": [
              "<div>\n",
              "<style scoped>\n",
              "    .dataframe tbody tr th:only-of-type {\n",
              "        vertical-align: middle;\n",
              "    }\n",
              "\n",
              "    .dataframe tbody tr th {\n",
              "        vertical-align: top;\n",
              "    }\n",
              "\n",
              "    .dataframe thead th {\n",
              "        text-align: right;\n",
              "    }\n",
              "</style>\n",
              "<table border=\"1\" class=\"dataframe\">\n",
              "  <thead>\n",
              "    <tr style=\"text-align: right;\">\n",
              "      <th></th>\n",
              "      <th>Paciente</th>\n",
              "      <th>Hospital</th>\n",
              "      <th>Idade</th>\n",
              "      <th>Sexo</th>\n",
              "      <th>TDP</th>\n",
              "      <th>PAR</th>\n",
              "      <th>CS</th>\n",
              "      <th>ASJ</th>\n",
              "      <th>ECG</th>\n",
              "      <th>FCM</th>\n",
              "      <th>AIE</th>\n",
              "      <th>DST</th>\n",
              "      <th>IST</th>\n",
              "      <th>NVP</th>\n",
              "      <th>Talassemia</th>\n",
              "      <th>Diagnostico</th>\n",
              "    </tr>\n",
              "  </thead>\n",
              "  <tbody>\n",
              "    <tr>\n",
              "      <th>0</th>\n",
              "      <td>262</td>\n",
              "      <td>C</td>\n",
              "      <td>60</td>\n",
              "      <td>1</td>\n",
              "      <td>1</td>\n",
              "      <td>150</td>\n",
              "      <td>240</td>\n",
              "      <td>0</td>\n",
              "      <td>0</td>\n",
              "      <td>171</td>\n",
              "      <td>0</td>\n",
              "      <td>0.9</td>\n",
              "      <td>1</td>\n",
              "      <td>0</td>\n",
              "      <td>3</td>\n",
              "      <td>0</td>\n",
              "    </tr>\n",
              "    <tr>\n",
              "      <th>1</th>\n",
              "      <td>520</td>\n",
              "      <td>H</td>\n",
              "      <td>54</td>\n",
              "      <td>2</td>\n",
              "      <td>4</td>\n",
              "      <td>125</td>\n",
              "      <td>224</td>\n",
              "      <td>0</td>\n",
              "      <td>0</td>\n",
              "      <td>122</td>\n",
              "      <td>0</td>\n",
              "      <td>2.0</td>\n",
              "      <td>2</td>\n",
              "      <td>-1</td>\n",
              "      <td>0</td>\n",
              "      <td>1</td>\n",
              "    </tr>\n",
              "    <tr>\n",
              "      <th>2</th>\n",
              "      <td>264</td>\n",
              "      <td>C</td>\n",
              "      <td>61</td>\n",
              "      <td>2</td>\n",
              "      <td>4</td>\n",
              "      <td>138</td>\n",
              "      <td>166</td>\n",
              "      <td>0</td>\n",
              "      <td>2</td>\n",
              "      <td>125</td>\n",
              "      <td>1</td>\n",
              "      <td>3.6</td>\n",
              "      <td>2</td>\n",
              "      <td>1</td>\n",
              "      <td>3</td>\n",
              "      <td>1</td>\n",
              "    </tr>\n",
              "    <tr>\n",
              "      <th>3</th>\n",
              "      <td>674</td>\n",
              "      <td>S</td>\n",
              "      <td>60</td>\n",
              "      <td>2</td>\n",
              "      <td>3</td>\n",
              "      <td>115</td>\n",
              "      <td>0</td>\n",
              "      <td>0</td>\n",
              "      <td>0</td>\n",
              "      <td>143</td>\n",
              "      <td>0</td>\n",
              "      <td>2.4</td>\n",
              "      <td>1</td>\n",
              "      <td>-1</td>\n",
              "      <td>0</td>\n",
              "      <td>1</td>\n",
              "    </tr>\n",
              "    <tr>\n",
              "      <th>4</th>\n",
              "      <td>102</td>\n",
              "      <td>C</td>\n",
              "      <td>57</td>\n",
              "      <td>1</td>\n",
              "      <td>4</td>\n",
              "      <td>128</td>\n",
              "      <td>303</td>\n",
              "      <td>0</td>\n",
              "      <td>2</td>\n",
              "      <td>159</td>\n",
              "      <td>0</td>\n",
              "      <td>0.0</td>\n",
              "      <td>1</td>\n",
              "      <td>1</td>\n",
              "      <td>3</td>\n",
              "      <td>0</td>\n",
              "    </tr>\n",
              "  </tbody>\n",
              "</table>\n",
              "</div>"
            ],
            "text/plain": [
              "   Paciente Hospital  Idade  Sexo  TDP  ...  DST  IST  NVP  Talassemia  Diagnostico\n",
              "0       262        C     60     1    1  ...  0.9    1    0           3            0\n",
              "1       520        H     54     2    4  ...  2.0    2   -1           0            1\n",
              "2       264        C     61     2    4  ...  3.6    2    1           3            1\n",
              "3       674        S     60     2    3  ...  2.4    1   -1           0            1\n",
              "4       102        C     57     1    4  ...  0.0    1    1           3            0\n",
              "\n",
              "[5 rows x 16 columns]"
            ]
          },
          "execution_count": 50,
          "metadata": {},
          "output_type": "execute_result"
        }
      ],
      "source": [
        "df = pd.read_csv(\"/content/covid.csv\",sep=';')\n",
        "df.head()"
      ]
    },
    {
      "cell_type": "code",
      "execution_count": 51,
      "metadata": {
        "colab": {
          "base_uri": "https://localhost:8080/",
          "height": 282
        },
        "id": "nIUNpTdRES3w",
        "outputId": "44e72b40-9ecc-4f88-b2f7-fec75e5050c9"
      },
      "outputs": [
        {
          "data": {
            "text/plain": [
              "<matplotlib.collections.PathCollection at 0x7f537645e850>"
            ]
          },
          "execution_count": 51,
          "metadata": {},
          "output_type": "execute_result"
        },
        {
          "data": {
            "image/png": "[encoded data removed]",
            "text/plain": [
              "<Figure size 432x288 with 1 Axes>"
            ]
          },
          "metadata": {
            "needs_background": "light"
          },
          "output_type": "display_data"
        }
      ],
      "source": [
        "plt.scatter(df.Idade,df.Diagnostico,marker='+',color='red')"
      ]
    },
    {
      "cell_type": "code",
      "execution_count": 52,
      "metadata": {
        "id": "BFDDbwJeGKLL"
      },
      "outputs": [],
      "source": [
        "from sklearn.model_selection import train_test_split"
      ]
    },
    {
      "cell_type": "code",
      "execution_count": 53,
      "metadata": {
        "id": "fsN9uLfVGVP3"
      },
      "outputs": [],
      "source": [
        "X_train, X_test, y_train, y_test = train_test_split(df[['Idade','Sexo','TDP','PAR','CS','ASJ','ECG','FCM','AIE','DST','IST','NVP','Talassemia']],df.Diagnostico,train_size=0.9)"
      ]
    },
    {
      "cell_type": "code",
      "execution_count": 54,
      "metadata": {
        "colab": {
          "base_uri": "https://localhost:8080/",
          "height": 417
        },
        "id": "qxSFK8LvNUF2",
        "outputId": "e0f18007-01ce-4d7b-a724-3c44db1a48e1"
      },
      "outputs": [
        {
          "data": {
            "text/html": [
              "<div>\n",
              "<style scoped>\n",
              "    .dataframe tbody tr th:only-of-type {\n",
              "        vertical-align: middle;\n",
              "    }\n",
              "\n",
              "    .dataframe tbody tr th {\n",
              "        vertical-align: top;\n",
              "    }\n",
              "\n",
              "    .dataframe thead th {\n",
              "        text-align: right;\n",
              "    }\n",
              "</style>\n",
              "<table border=\"1\" class=\"dataframe\">\n",
              "  <thead>\n",
              "    <tr style=\"text-align: right;\">\n",
              "      <th></th>\n",
              "      <th>Idade</th>\n",
              "      <th>Sexo</th>\n",
              "      <th>TDP</th>\n",
              "      <th>PAR</th>\n",
              "      <th>CS</th>\n",
              "      <th>ASJ</th>\n",
              "      <th>ECG</th>\n",
              "      <th>FCM</th>\n",
              "      <th>AIE</th>\n",
              "      <th>DST</th>\n",
              "      <th>IST</th>\n",
              "      <th>NVP</th>\n",
              "      <th>Talassemia</th>\n",
              "    </tr>\n",
              "  </thead>\n",
              "  <tbody>\n",
              "    <tr>\n",
              "      <th>541</th>\n",
              "      <td>39</td>\n",
              "      <td>1</td>\n",
              "      <td>3</td>\n",
              "      <td>138</td>\n",
              "      <td>220</td>\n",
              "      <td>0</td>\n",
              "      <td>0</td>\n",
              "      <td>152</td>\n",
              "      <td>0</td>\n",
              "      <td>0.0</td>\n",
              "      <td>2</td>\n",
              "      <td>0</td>\n",
              "      <td>3</td>\n",
              "    </tr>\n",
              "    <tr>\n",
              "      <th>375</th>\n",
              "      <td>59</td>\n",
              "      <td>2</td>\n",
              "      <td>4</td>\n",
              "      <td>110</td>\n",
              "      <td>0</td>\n",
              "      <td>0</td>\n",
              "      <td>0</td>\n",
              "      <td>94</td>\n",
              "      <td>0</td>\n",
              "      <td>0.0</td>\n",
              "      <td>0</td>\n",
              "      <td>-1</td>\n",
              "      <td>6</td>\n",
              "    </tr>\n",
              "    <tr>\n",
              "      <th>57</th>\n",
              "      <td>43</td>\n",
              "      <td>2</td>\n",
              "      <td>4</td>\n",
              "      <td>150</td>\n",
              "      <td>247</td>\n",
              "      <td>0</td>\n",
              "      <td>0</td>\n",
              "      <td>171</td>\n",
              "      <td>0</td>\n",
              "      <td>1.5</td>\n",
              "      <td>1</td>\n",
              "      <td>0</td>\n",
              "      <td>3</td>\n",
              "    </tr>\n",
              "    <tr>\n",
              "      <th>194</th>\n",
              "      <td>70</td>\n",
              "      <td>2</td>\n",
              "      <td>4</td>\n",
              "      <td>145</td>\n",
              "      <td>174</td>\n",
              "      <td>0</td>\n",
              "      <td>0</td>\n",
              "      <td>125</td>\n",
              "      <td>1</td>\n",
              "      <td>2.6</td>\n",
              "      <td>3</td>\n",
              "      <td>0</td>\n",
              "      <td>7</td>\n",
              "    </tr>\n",
              "    <tr>\n",
              "      <th>438</th>\n",
              "      <td>56</td>\n",
              "      <td>2</td>\n",
              "      <td>2</td>\n",
              "      <td>124</td>\n",
              "      <td>224</td>\n",
              "      <td>1</td>\n",
              "      <td>0</td>\n",
              "      <td>161</td>\n",
              "      <td>0</td>\n",
              "      <td>2.0</td>\n",
              "      <td>2</td>\n",
              "      <td>-1</td>\n",
              "      <td>0</td>\n",
              "    </tr>\n",
              "    <tr>\n",
              "      <th>...</th>\n",
              "      <td>...</td>\n",
              "      <td>...</td>\n",
              "      <td>...</td>\n",
              "      <td>...</td>\n",
              "      <td>...</td>\n",
              "      <td>...</td>\n",
              "      <td>...</td>\n",
              "      <td>...</td>\n",
              "      <td>...</td>\n",
              "      <td>...</td>\n",
              "      <td>...</td>\n",
              "      <td>...</td>\n",
              "      <td>...</td>\n",
              "    </tr>\n",
              "    <tr>\n",
              "      <th>508</th>\n",
              "      <td>55</td>\n",
              "      <td>2</td>\n",
              "      <td>4</td>\n",
              "      <td>120</td>\n",
              "      <td>226</td>\n",
              "      <td>0</td>\n",
              "      <td>2</td>\n",
              "      <td>127</td>\n",
              "      <td>1</td>\n",
              "      <td>1.7</td>\n",
              "      <td>3</td>\n",
              "      <td>-1</td>\n",
              "      <td>7</td>\n",
              "    </tr>\n",
              "    <tr>\n",
              "      <th>544</th>\n",
              "      <td>32</td>\n",
              "      <td>2</td>\n",
              "      <td>2</td>\n",
              "      <td>125</td>\n",
              "      <td>254</td>\n",
              "      <td>0</td>\n",
              "      <td>0</td>\n",
              "      <td>155</td>\n",
              "      <td>0</td>\n",
              "      <td>0.0</td>\n",
              "      <td>0</td>\n",
              "      <td>-1</td>\n",
              "      <td>0</td>\n",
              "    </tr>\n",
              "    <tr>\n",
              "      <th>598</th>\n",
              "      <td>52</td>\n",
              "      <td>2</td>\n",
              "      <td>2</td>\n",
              "      <td>160</td>\n",
              "      <td>196</td>\n",
              "      <td>0</td>\n",
              "      <td>0</td>\n",
              "      <td>165</td>\n",
              "      <td>0</td>\n",
              "      <td>0.0</td>\n",
              "      <td>0</td>\n",
              "      <td>-1</td>\n",
              "      <td>0</td>\n",
              "    </tr>\n",
              "    <tr>\n",
              "      <th>179</th>\n",
              "      <td>60</td>\n",
              "      <td>2</td>\n",
              "      <td>4</td>\n",
              "      <td>160</td>\n",
              "      <td>0</td>\n",
              "      <td>0</td>\n",
              "      <td>1</td>\n",
              "      <td>99</td>\n",
              "      <td>1</td>\n",
              "      <td>0.5</td>\n",
              "      <td>2</td>\n",
              "      <td>-1</td>\n",
              "      <td>7</td>\n",
              "    </tr>\n",
              "    <tr>\n",
              "      <th>5</th>\n",
              "      <td>35</td>\n",
              "      <td>1</td>\n",
              "      <td>1</td>\n",
              "      <td>120</td>\n",
              "      <td>160</td>\n",
              "      <td>0</td>\n",
              "      <td>1</td>\n",
              "      <td>185</td>\n",
              "      <td>0</td>\n",
              "      <td>0.0</td>\n",
              "      <td>0</td>\n",
              "      <td>-1</td>\n",
              "      <td>0</td>\n",
              "    </tr>\n",
              "  </tbody>\n",
              "</table>\n",
              "<p>62 rows × 13 columns</p>\n",
              "</div>"
            ],
            "text/plain": [
              "     Idade  Sexo  TDP  PAR   CS  ASJ  ECG  FCM  AIE  DST  IST  NVP  Talassemia\n",
              "541     39     1    3  138  220    0    0  152    0  0.0    2    0           3\n",
              "375     59     2    4  110    0    0    0   94    0  0.0    0   -1           6\n",
              "57      43     2    4  150  247    0    0  171    0  1.5    1    0           3\n",
              "194     70     2    4  145  174    0    0  125    1  2.6    3    0           7\n",
              "438     56     2    2  124  224    1    0  161    0  2.0    2   -1           0\n",
              "..     ...   ...  ...  ...  ...  ...  ...  ...  ...  ...  ...  ...         ...\n",
              "508     55     2    4  120  226    0    2  127    1  1.7    3   -1           7\n",
              "544     32     2    2  125  254    0    0  155    0  0.0    0   -1           0\n",
              "598     52     2    2  160  196    0    0  165    0  0.0    0   -1           0\n",
              "179     60     2    4  160    0    0    1   99    1  0.5    2   -1           7\n",
              "5       35     1    1  120  160    0    1  185    0  0.0    0   -1           0\n",
              "\n",
              "[62 rows x 13 columns]"
            ]
          },
          "execution_count": 54,
          "metadata": {},
          "output_type": "execute_result"
        }
      ],
      "source": [
        "X_test"
      ]
    },
    {
      "cell_type": "code",
      "execution_count": 55,
      "metadata": {
        "id": "VXY4BDbiLQx9"
      },
      "outputs": [],
      "source": [
        "from sklearn.linear_model import LogisticRegression"
      ]
    },
    {
      "cell_type": "code",
      "execution_count": 64,
      "metadata": {
        "id": "CXQ_QZRSQ2KS"
      },
      "outputs": [],
      "source": [
        "model = LogisticRegression(max_iter=1500)"
      ]
    },
    {
      "cell_type": "code",
      "execution_count": 65,
      "metadata": {
        "colab": {
          "base_uri": "https://localhost:8080/"
        },
        "id": "H1BMY3iCQ9pH",
        "outputId": "780e940f-537d-4820-ad9b-ff5ffdf76f3e"
      },
      "outputs": [
        {
          "data": {
            "text/plain": [
              "LogisticRegression(C=1.0, class_weight=None, dual=False, fit_intercept=True,\n",
              "                   intercept_scaling=1, l1_ratio=None, max_iter=1500,\n",
              "                   multi_class='auto', n_jobs=None, penalty='l2',\n",
              "                   random_state=None, solver='lbfgs', tol=0.0001, verbose=0,\n",
              "                   warm_start=False)"
            ]
          },
          "execution_count": 65,
          "metadata": {},
          "output_type": "execute_result"
        }
      ],
      "source": [
        "model.fit(X_train,y_train)"
      ]
    },
    {
      "cell_type": "code",
      "execution_count": 66,
      "metadata": {
        "colab": {
          "base_uri": "https://localhost:8080/"
        },
        "id": "HAOmISgren2O",
        "outputId": "c1f38c33-871c-4791-efed-22b3c0053626"
      },
      "outputs": [
        {
          "data": {
            "text/plain": [
              "array([0, 1, 1, 1, 0, 0, 1, 0, 0, 1, 1, 1, 0, 1, 1, 1, 1, 1, 1, 0, 1, 1,\n",
              "       1, 1, 1, 0, 0, 1, 0, 1, 0, 0, 1, 1, 0, 0, 1, 1, 1, 1, 0, 1, 0, 1,\n",
              "       1, 0, 1, 0, 0, 0, 0, 1, 1, 1, 1, 0, 1, 1, 0, 0, 1, 0])"
            ]
          },
          "execution_count": 66,
          "metadata": {},
          "output_type": "execute_result"
        }
      ],
      "source": [
        "model.predict(X_test)"
      ]
    },
    {
      "cell_type": "code",
      "execution_count": 67,
      "metadata": {
        "colab": {
          "base_uri": "https://localhost:8080/"
        },
        "id": "k56yEZBAfMPe",
        "outputId": "8c5a77a8-f8dd-4bcc-8bc4-e1c643c3be46"
      },
      "outputs": [
        {
          "data": {
            "text/plain": [
              "0.8548387096774194"
            ]
          },
          "execution_count": 67,
          "metadata": {},
          "output_type": "execute_result"
        }
      ],
      "source": [
        "model.score(X_test,y_test)"
      ]
    },
    {
      "cell_type": "code",
      "execution_count": 68,
      "metadata": {
        "colab": {
          "base_uri": "https://localhost:8080/"
        },
        "id": "hyiaVz9_fkL_",
        "outputId": "8085051b-934e-4a9b-85a5-3a600028aa28"
      },
      "outputs": [
        {
          "data": {
            "text/plain": [
              "array([[0.80664738, 0.19335262],\n",
              "       [0.22683618, 0.77316382],\n",
              "       [0.46305861, 0.53694139],\n",
              "       [0.03345102, 0.96654898],\n",
              "       [0.50969241, 0.49030759],\n",
              "       [0.81097663, 0.18902337],\n",
              "       [0.46189355, 0.53810645],\n",
              "       [0.66762628, 0.33237372],\n",
              "       [0.6872292 , 0.3127708 ],\n",
              "       [0.35783713, 0.64216287],\n",
              "       [0.1187817 , 0.8812183 ],\n",
              "       [0.3185493 , 0.6814507 ],\n",
              "       [0.56272797, 0.43727203],\n",
              "       [0.24238608, 0.75761392],\n",
              "       [0.12294861, 0.87705139],\n",
              "       [0.09265403, 0.90734597],\n",
              "       [0.39177054, 0.60822946],\n",
              "       [0.21662683, 0.78337317],\n",
              "       [0.2241607 , 0.7758393 ],\n",
              "       [0.92532305, 0.07467695],\n",
              "       [0.07828557, 0.92171443],\n",
              "       [0.18625086, 0.81374914],\n",
              "       [0.12045033, 0.87954967],\n",
              "       [0.06455583, 0.93544417],\n",
              "       [0.07731893, 0.92268107],\n",
              "       [0.51938023, 0.48061977],\n",
              "       [0.8012291 , 0.1987709 ],\n",
              "       [0.39216428, 0.60783572],\n",
              "       [0.60864727, 0.39135273],\n",
              "       [0.44523689, 0.55476311],\n",
              "       [0.94537802, 0.05462198],\n",
              "       [0.89352946, 0.10647054],\n",
              "       [0.04567647, 0.95432353],\n",
              "       [0.1483477 , 0.8516523 ],\n",
              "       [0.83671998, 0.16328002],\n",
              "       [0.53657701, 0.46342299],\n",
              "       [0.00993047, 0.99006953],\n",
              "       [0.04595824, 0.95404176],\n",
              "       [0.11333924, 0.88666076],\n",
              "       [0.04683277, 0.95316723],\n",
              "       [0.57614463, 0.42385537],\n",
              "       [0.13556384, 0.86443616],\n",
              "       [0.87348304, 0.12651696],\n",
              "       [0.0894258 , 0.9105742 ],\n",
              "       [0.28505616, 0.71494384],\n",
              "       [0.57767967, 0.42232033],\n",
              "       [0.16235223, 0.83764777],\n",
              "       [0.55603855, 0.44396145],\n",
              "       [0.86962223, 0.13037777],\n",
              "       [0.97634063, 0.02365937],\n",
              "       [0.85757818, 0.14242182],\n",
              "       [0.29343099, 0.70656901],\n",
              "       [0.2036151 , 0.7963849 ],\n",
              "       [0.05894746, 0.94105254],\n",
              "       [0.13824916, 0.86175084],\n",
              "       [0.85162518, 0.14837482],\n",
              "       [0.15564094, 0.84435906],\n",
              "       [0.07298829, 0.92701171],\n",
              "       [0.87844985, 0.12155015],\n",
              "       [0.8737832 , 0.1262168 ],\n",
              "       [0.04215232, 0.95784768],\n",
              "       [0.98689087, 0.01310913]])"
            ]
          },
          "execution_count": 68,
          "metadata": {},
          "output_type": "execute_result"
        }
      ],
      "source": [
        "model.predict_proba(X_test)"
      ]
    },
    {
      "cell_type": "code",
      "execution_count": 79,
      "metadata": {
        "id": "LhIWsRjgi7uU"
      },
      "outputs": [],
      "source": [
        "y_pred=model.predict(X_test)"
      ]
    },
    {
      "cell_type": "code",
      "execution_count": 74,
      "metadata": {
        "id": "LoOzNRqajrQB"
      },
      "outputs": [],
      "source": [
        "from sklearn.metrics import confusion_matrix"
      ]
    },
    {
      "cell_type": "code",
      "execution_count": 82,
      "metadata": {
        "colab": {
          "base_uri": "https://localhost:8080/"
        },
        "id": "YVv-zT0EjN1D",
        "outputId": "62303ca5-98e1-40fe-9840-31956a78d161"
      },
      "outputs": [
        {
          "data": {
            "text/plain": [
              "array([[23,  7],\n",
              "       [ 2, 30]])"
            ]
          },
          "execution_count": 82,
          "metadata": {},
          "output_type": "execute_result"
        }
      ],
      "source": [
        "confusion_matrix(y_test,y_pred)"
      ]
    },
    {
      "cell_type": "code",
      "execution_count": 84,
      "metadata": {
        "colab": {
          "base_uri": "https://localhost:8080/"
        },
        "id": "zXd7G_snktzL",
        "outputId": "6af771a6-0ddb-4a06-e94a-03e273fd019e"
      },
      "outputs": [
        {
          "data": {
            "text/plain": [
              "array([[172,  61],\n",
              "       [ 47, 271]])"
            ]
          },
          "execution_count": 84,
          "metadata": {},
          "output_type": "execute_result"
        }
      ],
      "source": [
        "y_pred2=model.predict(X_train)\n",
        "confusion_matrix(y_train,y_pred2)"
      ]
    },
    {
      "cell_type": "markdown",
      "metadata": {
        "id": "AM9er-tal_FA"
      },
      "source": [
        "A Matriz de Confusão Total é \n",
        " [ 195,  68 ]\n",
        " [  49, 301 ]\n"
      ]
    },
    {
      "cell_type": "markdown",
      "metadata": {
        "id": "Zie2F4JwsRGk"
      },
      "source": [
        "Calculamos o erro do modelo = (FN + FP) / NTO FN = Número de Falsos Negativos = 68 FP = Número de Falsos Positivos = 49 NTO = Número total de observações = 613"
      ]
    },
    {
      "cell_type": "code",
      "execution_count": 1,
      "metadata": {
        "colab": {
          "base_uri": "https://localhost:8080/"
        },
        "id": "zBWqpYjIo_mr",
        "outputId": "2d6ae96e-c011-4c4e-9bd4-16ee02301d07"
      },
      "outputs": [
        {
          "name": "stdout",
          "output_type": "stream",
          "text": [
            "0.19086460032626426\n"
          ]
        }
      ],
      "source": [
        "erro = (68+49)/613\n",
        "print(erro)"
      ]
    },
    {
      "cell_type": "code",
      "execution_count": 10,
      "metadata": {
        "colab": {
          "base_uri": "https://localhost:8080/"
        },
        "id": "-vquAHV0tQz4",
        "outputId": "04dc51eb-4cd1-4612-abe2-eeec5fbd8cde"
      },
      "outputs": [
        {
          "name": "stdout",
          "output_type": "stream",
          "text": [
            "Precisão = 0.86\n",
            "Revocação = 0.8157181571815718\n",
            "Escore F1 Médio = 0.8372739916550764\n",
            "Especificidade = 0.7991803278688525\n",
            "Sensibilidade = 0.8157181571815718\n",
            "Acurácia = 0.8091353996737357\n"
          ]
        }
      ],
      "source": [
        "#** Cálculo do Escore F1 médio, e Outros Índices\n",
        "\n",
        "VP = 301\n",
        "VN = 195\n",
        "FP = 49\n",
        "FN = 68\n",
        "Precisao = VP/(VP + FP)\n",
        "Revocacao = VP/(VP + FN)\n",
        "EscF1med = 2*Precisao*Revocacao/(Precisao+Revocacao)\n",
        "Especificidade = VN / (VN + FP)\n",
        "Sensibilidade = VP / (FN + VP)\n",
        "Acuracia = (VP + VN) / (VP + FP + VN + FN)\n",
        "print(\"Precisão =\",Precisao)\n",
        "print(\"Revocação =\",Revocacao)\n",
        "print(\"Escore F1 Médio =\",EscF1med)\n",
        "print(\"Especificidade =\",Especificidade)\n",
        "print(\"Sensibilidade =\",Sensibilidade)\n",
        "print(\"Acurácia =\",Acuracia)"
      ]
    }
  ],
  "metadata": {
    "colab": {
      "authorship_tag": "ABX9TyPFPe+rbV7yOfzjNGAOf+CJ",
      "include_colab_link": true,
      "name": "Modelo preditivo 3 - Doencas Cardiacas - RN.ipynb",
      "provenance": []
    },
    "kernelspec": {
      "display_name": "Python 3",
      "name": "python3"
    },
    "language_info": {
      "name": "python"
    }
  },
  "nbformat": 4,
  "nbformat_minor": 0
}
